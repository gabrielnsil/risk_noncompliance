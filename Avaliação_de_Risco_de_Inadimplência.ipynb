{
  "nbformat": 4,
  "nbformat_minor": 0,
  "metadata": {
    "colab": {
      "provenance": [],
      "authorship_tag": "ABX9TyOYJYvmx2+lg9HtlJ25hzxS",
      "include_colab_link": true
    },
    "kernelspec": {
      "name": "python3",
      "display_name": "Python 3"
    },
    "language_info": {
      "name": "python"
    }
  },
  "cells": [
    {
      "cell_type": "markdown",
      "metadata": {
        "id": "view-in-github",
        "colab_type": "text"
      },
      "source": [
        "<a href=\"https://colab.research.google.com/github/gabrielnsil/risk_noncompliance/blob/main/Avalia%C3%A7%C3%A3o_de_Risco_de_Inadimpl%C3%AAncia.ipynb\" target=\"_parent\"><img src=\"https://colab.research.google.com/assets/colab-badge.svg\" alt=\"Open In Colab\"/></a>"
      ]
    },
    {
      "cell_type": "markdown",
      "source": [
        "# **Avaliação de Risco de Inadimplência** "
      ],
      "metadata": {
        "id": "rxOhmAeDU9gP"
      }
    },
    {
      "cell_type": "markdown",
      "source": [
        "#### **Introdução**\n",
        "\n",
        "Após a junção das tabelas e começo do processo de tratamento de dados usando SQL, partimos para a próxima etapa do projeto que consiste em construir um modelo de **Machine Learning** (um estimador/classificador) com a capacidade de predizer de acordo com os dados bancários de um indivíduo, se ele pode ou não se tornar inadimplente. "
      ],
      "metadata": {
        "id": "90g8GvuAVr4G"
      }
    },
    {
      "cell_type": "markdown",
      "source": [
        "#### **Importando bibliotecas e os dados**\n",
        "\n",
        "O conjunto de dados (\"*data_noncomplianceRisk.csv*\") oriundo do processo de tratamento inicial feito em SQL pode ser encontrado no meu github"
      ],
      "metadata": {
        "id": "yIjqPApZV1By"
      }
    },
    {
      "cell_type": "code",
      "execution_count": 1,
      "metadata": {
        "id": "K3ZmGXpMU7q3"
      },
      "outputs": [],
      "source": [
        "import pandas as pd\n",
        "import numpy as np\n",
        "from sklearn.compose import make_column_transformer\n",
        "from sklearn.preprocessing import OneHotEncoder\n",
        "from sklearn.model_selection import train_test_split"
      ]
    },
    {
      "cell_type": "code",
      "source": [
        "uri = 'https://raw.githubusercontent.com/gabrielnsil/risk_noncompliance/main/data_noncomplianceRisk.csv'\n",
        "dados = pd.read_csv(uri)"
      ],
      "metadata": {
        "id": "zrh2CLkGXRCc"
      },
      "execution_count": 2,
      "outputs": []
    },
    {
      "cell_type": "code",
      "source": [
        "dados.head()"
      ],
      "metadata": {
        "colab": {
          "base_uri": "https://localhost:8080/",
          "height": 270
        },
        "id": "HNdIVjwXXSdP",
        "outputId": "f054b9aa-4db7-4325-bb95-fa35431f7ded"
      },
      "execution_count": 3,
      "outputs": [
        {
          "output_type": "execute_result",
          "data": {
            "text/plain": [
              "   person_age  person_income person_home_ownership  person_emp_length  \\\n",
              "0          28        43200.0                  Rent                1.0   \n",
              "1          26        38340.0              Mortgage                7.0   \n",
              "2          26        80000.0                  Rent                0.0   \n",
              "3          34        25200.0                  Rent                NaN   \n",
              "4          28        81972.0                  Rent                4.0   \n",
              "\n",
              "         loan_intent loan_grade  loan_amnt  loan_int_rate  loan_status  \\\n",
              "0            Medical          A     3000.0           7.49          0.0   \n",
              "1           Personal          B     2500.0          12.18          1.0   \n",
              "2    Homeimprovement          A     8000.0           5.99          0.0   \n",
              "3            Venture          A     3000.0           7.66          0.0   \n",
              "4  Debtconsolidation          B    18000.0          10.99          0.0   \n",
              "\n",
              "   loan_percent_income cb_person_default_on_file  cb_person_cred_hist_length  \n",
              "0                 0.07                         N                           9  \n",
              "1                 0.07                         N                           4  \n",
              "2                 0.10                         N                           2  \n",
              "3                 0.12                         N                           8  \n",
              "4                 0.22                         N                           6  "
            ],
            "text/html": [
              "\n",
              "  <div id=\"df-6eaa4949-896f-46fb-96d7-b4904ccd8faa\">\n",
              "    <div class=\"colab-df-container\">\n",
              "      <div>\n",
              "<style scoped>\n",
              "    .dataframe tbody tr th:only-of-type {\n",
              "        vertical-align: middle;\n",
              "    }\n",
              "\n",
              "    .dataframe tbody tr th {\n",
              "        vertical-align: top;\n",
              "    }\n",
              "\n",
              "    .dataframe thead th {\n",
              "        text-align: right;\n",
              "    }\n",
              "</style>\n",
              "<table border=\"1\" class=\"dataframe\">\n",
              "  <thead>\n",
              "    <tr style=\"text-align: right;\">\n",
              "      <th></th>\n",
              "      <th>person_age</th>\n",
              "      <th>person_income</th>\n",
              "      <th>person_home_ownership</th>\n",
              "      <th>person_emp_length</th>\n",
              "      <th>loan_intent</th>\n",
              "      <th>loan_grade</th>\n",
              "      <th>loan_amnt</th>\n",
              "      <th>loan_int_rate</th>\n",
              "      <th>loan_status</th>\n",
              "      <th>loan_percent_income</th>\n",
              "      <th>cb_person_default_on_file</th>\n",
              "      <th>cb_person_cred_hist_length</th>\n",
              "    </tr>\n",
              "  </thead>\n",
              "  <tbody>\n",
              "    <tr>\n",
              "      <th>0</th>\n",
              "      <td>28</td>\n",
              "      <td>43200.0</td>\n",
              "      <td>Rent</td>\n",
              "      <td>1.0</td>\n",
              "      <td>Medical</td>\n",
              "      <td>A</td>\n",
              "      <td>3000.0</td>\n",
              "      <td>7.49</td>\n",
              "      <td>0.0</td>\n",
              "      <td>0.07</td>\n",
              "      <td>N</td>\n",
              "      <td>9</td>\n",
              "    </tr>\n",
              "    <tr>\n",
              "      <th>1</th>\n",
              "      <td>26</td>\n",
              "      <td>38340.0</td>\n",
              "      <td>Mortgage</td>\n",
              "      <td>7.0</td>\n",
              "      <td>Personal</td>\n",
              "      <td>B</td>\n",
              "      <td>2500.0</td>\n",
              "      <td>12.18</td>\n",
              "      <td>1.0</td>\n",
              "      <td>0.07</td>\n",
              "      <td>N</td>\n",
              "      <td>4</td>\n",
              "    </tr>\n",
              "    <tr>\n",
              "      <th>2</th>\n",
              "      <td>26</td>\n",
              "      <td>80000.0</td>\n",
              "      <td>Rent</td>\n",
              "      <td>0.0</td>\n",
              "      <td>Homeimprovement</td>\n",
              "      <td>A</td>\n",
              "      <td>8000.0</td>\n",
              "      <td>5.99</td>\n",
              "      <td>0.0</td>\n",
              "      <td>0.10</td>\n",
              "      <td>N</td>\n",
              "      <td>2</td>\n",
              "    </tr>\n",
              "    <tr>\n",
              "      <th>3</th>\n",
              "      <td>34</td>\n",
              "      <td>25200.0</td>\n",
              "      <td>Rent</td>\n",
              "      <td>NaN</td>\n",
              "      <td>Venture</td>\n",
              "      <td>A</td>\n",
              "      <td>3000.0</td>\n",
              "      <td>7.66</td>\n",
              "      <td>0.0</td>\n",
              "      <td>0.12</td>\n",
              "      <td>N</td>\n",
              "      <td>8</td>\n",
              "    </tr>\n",
              "    <tr>\n",
              "      <th>4</th>\n",
              "      <td>28</td>\n",
              "      <td>81972.0</td>\n",
              "      <td>Rent</td>\n",
              "      <td>4.0</td>\n",
              "      <td>Debtconsolidation</td>\n",
              "      <td>B</td>\n",
              "      <td>18000.0</td>\n",
              "      <td>10.99</td>\n",
              "      <td>0.0</td>\n",
              "      <td>0.22</td>\n",
              "      <td>N</td>\n",
              "      <td>6</td>\n",
              "    </tr>\n",
              "  </tbody>\n",
              "</table>\n",
              "</div>\n",
              "      <button class=\"colab-df-convert\" onclick=\"convertToInteractive('df-6eaa4949-896f-46fb-96d7-b4904ccd8faa')\"\n",
              "              title=\"Convert this dataframe to an interactive table.\"\n",
              "              style=\"display:none;\">\n",
              "        \n",
              "  <svg xmlns=\"http://www.w3.org/2000/svg\" height=\"24px\"viewBox=\"0 0 24 24\"\n",
              "       width=\"24px\">\n",
              "    <path d=\"M0 0h24v24H0V0z\" fill=\"none\"/>\n",
              "    <path d=\"M18.56 5.44l.94 2.06.94-2.06 2.06-.94-2.06-.94-.94-2.06-.94 2.06-2.06.94zm-11 1L8.5 8.5l.94-2.06 2.06-.94-2.06-.94L8.5 2.5l-.94 2.06-2.06.94zm10 10l.94 2.06.94-2.06 2.06-.94-2.06-.94-.94-2.06-.94 2.06-2.06.94z\"/><path d=\"M17.41 7.96l-1.37-1.37c-.4-.4-.92-.59-1.43-.59-.52 0-1.04.2-1.43.59L10.3 9.45l-7.72 7.72c-.78.78-.78 2.05 0 2.83L4 21.41c.39.39.9.59 1.41.59.51 0 1.02-.2 1.41-.59l7.78-7.78 2.81-2.81c.8-.78.8-2.07 0-2.86zM5.41 20L4 18.59l7.72-7.72 1.47 1.35L5.41 20z\"/>\n",
              "  </svg>\n",
              "      </button>\n",
              "      \n",
              "  <style>\n",
              "    .colab-df-container {\n",
              "      display:flex;\n",
              "      flex-wrap:wrap;\n",
              "      gap: 12px;\n",
              "    }\n",
              "\n",
              "    .colab-df-convert {\n",
              "      background-color: #E8F0FE;\n",
              "      border: none;\n",
              "      border-radius: 50%;\n",
              "      cursor: pointer;\n",
              "      display: none;\n",
              "      fill: #1967D2;\n",
              "      height: 32px;\n",
              "      padding: 0 0 0 0;\n",
              "      width: 32px;\n",
              "    }\n",
              "\n",
              "    .colab-df-convert:hover {\n",
              "      background-color: #E2EBFA;\n",
              "      box-shadow: 0px 1px 2px rgba(60, 64, 67, 0.3), 0px 1px 3px 1px rgba(60, 64, 67, 0.15);\n",
              "      fill: #174EA6;\n",
              "    }\n",
              "\n",
              "    [theme=dark] .colab-df-convert {\n",
              "      background-color: #3B4455;\n",
              "      fill: #D2E3FC;\n",
              "    }\n",
              "\n",
              "    [theme=dark] .colab-df-convert:hover {\n",
              "      background-color: #434B5C;\n",
              "      box-shadow: 0px 1px 3px 1px rgba(0, 0, 0, 0.15);\n",
              "      filter: drop-shadow(0px 1px 2px rgba(0, 0, 0, 0.3));\n",
              "      fill: #FFFFFF;\n",
              "    }\n",
              "  </style>\n",
              "\n",
              "      <script>\n",
              "        const buttonEl =\n",
              "          document.querySelector('#df-6eaa4949-896f-46fb-96d7-b4904ccd8faa button.colab-df-convert');\n",
              "        buttonEl.style.display =\n",
              "          google.colab.kernel.accessAllowed ? 'block' : 'none';\n",
              "\n",
              "        async function convertToInteractive(key) {\n",
              "          const element = document.querySelector('#df-6eaa4949-896f-46fb-96d7-b4904ccd8faa');\n",
              "          const dataTable =\n",
              "            await google.colab.kernel.invokeFunction('convertToInteractive',\n",
              "                                                     [key], {});\n",
              "          if (!dataTable) return;\n",
              "\n",
              "          const docLinkHtml = 'Like what you see? Visit the ' +\n",
              "            '<a target=\"_blank\" href=https://colab.research.google.com/notebooks/data_table.ipynb>data table notebook</a>'\n",
              "            + ' to learn more about interactive tables.';\n",
              "          element.innerHTML = '';\n",
              "          dataTable['output_type'] = 'display_data';\n",
              "          await google.colab.output.renderOutput(dataTable, element);\n",
              "          const docLink = document.createElement('div');\n",
              "          docLink.innerHTML = docLinkHtml;\n",
              "          element.appendChild(docLink);\n",
              "        }\n",
              "      </script>\n",
              "    </div>\n",
              "  </div>\n",
              "  "
            ]
          },
          "metadata": {},
          "execution_count": 3
        }
      ]
    },
    {
      "cell_type": "markdown",
      "source": [
        "#### **Tradução do nome das colunas**\n",
        "\n",
        "Para facilitar a compreensão podemos traduzir os nomes das variáveis para simplificar ainda mais. Para isso, usamos um dicionário e o método `.rename`"
      ],
      "metadata": {
        "id": "OkHuRJiLb97h"
      }
    },
    {
      "cell_type": "code",
      "source": [
        "mapa = {\n",
        "    \"person_age\":\"idade_pessoa\",\n",
        "    \"person_income\":\"renda\",\n",
        "    \"person_home_ownership\":\"tipo_moradia\",\n",
        "    \"person_emp_length\":\"tempo_trabalhado\",\n",
        "    \"loan_intent\":\"motivo_emprestimo\",\n",
        "    \"loan_grade\":\"pontuacao_emprestimo\",\n",
        "    \"loan_amnt\":\"valor_emprestimo\",\n",
        "    \"loan_int_rate\":\"taxa_juros\",\n",
        "    \"loan_status\":\"inadimplencia\",\n",
        "    \"loan_percent_income\":\"renda_percentual_emprestimo\",\n",
        "    \"cb_person_default_on_file\":\"devendo\",\n",
        "    \"cb_person_cred_hist_length\":\"tempo_de_credito\",\n",
        "}"
      ],
      "metadata": {
        "id": "HFLgEQrMfRkk"
      },
      "execution_count": 4,
      "outputs": []
    },
    {
      "cell_type": "code",
      "source": [
        "dados = dados.rename(mapa, axis = 1)"
      ],
      "metadata": {
        "id": "PorcmJhKcd44"
      },
      "execution_count": 5,
      "outputs": []
    },
    {
      "cell_type": "markdown",
      "source": [
        "#### **Análise inicial dos dados**\n",
        "\n",
        "Na maioria dos conjuntos de dados há informação inconsistentes que podem alterar ou confundir nossas interpretações. Aqui iremos procurar por outliers e dados nulos que possam prejudicar os modelos de Machine Learning que iremos utilizar.\n",
        "\n",
        "---\n",
        "\n",
        "A primeira etapa é utilizar `info()` para identificar a presença de valores nulos nas variáveis."
      ],
      "metadata": {
        "id": "xtp_wLshdD11"
      }
    },
    {
      "cell_type": "code",
      "source": [
        "dados.info()"
      ],
      "metadata": {
        "colab": {
          "base_uri": "https://localhost:8080/"
        },
        "id": "MXj2TfYddxlW",
        "outputId": "01a4b488-5fbc-4b9d-9c29-35a27448ee20"
      },
      "execution_count": 6,
      "outputs": [
        {
          "output_type": "stream",
          "name": "stdout",
          "text": [
            "<class 'pandas.core.frame.DataFrame'>\n",
            "RangeIndex: 34165 entries, 0 to 34164\n",
            "Data columns (total 12 columns):\n",
            " #   Column                       Non-Null Count  Dtype  \n",
            "---  ------                       --------------  -----  \n",
            " 0   idade_pessoa                 34165 non-null  int64  \n",
            " 1   renda                        33866 non-null  float64\n",
            " 2   tipo_moradia                 33862 non-null  object \n",
            " 3   tempo_trabalhado             32952 non-null  float64\n",
            " 4   motivo_emprestimo            33878 non-null  object \n",
            " 5   pontuacao_emprestimo         33879 non-null  object \n",
            " 6   valor_emprestimo             33866 non-null  float64\n",
            " 7   taxa_juros                   30596 non-null  float64\n",
            " 8   inadimplencia                33853 non-null  float64\n",
            " 9   renda_percentual_emprestimo  33877 non-null  float64\n",
            " 10  devendo                      33836 non-null  object \n",
            " 11  tempo_de_credito             34165 non-null  int64  \n",
            "dtypes: float64(6), int64(2), object(4)\n",
            "memory usage: 3.1+ MB\n"
          ]
        }
      ]
    },
    {
      "cell_type": "markdown",
      "source": [
        "Disso, podemos constatar que:\n",
        "\n",
        "*  O conjunto de dados possue 12 colunas e 34165 entradas de valores.\n",
        "* Todas as 12 colunas **possuem valores nulos**\n",
        "*   Algumas variáveis com dtype `object`não podem ser utilizadas nos modelos de ML sem um tratamento:\n",
        "    * `situacao_moraria`\n",
        "    * `motivo_emprestimo`\n",
        "    * `pontuacao_emprestimo`\n",
        "    * `devendo` \n",
        "\n",
        "----\n",
        "\n",
        "Usando o método `describe()` podemos compreender melhor algumas características das variáveis numéricas, o que é bom para identificar valores discrepantes (outliers)."
      ],
      "metadata": {
        "id": "cFA45x9geG54"
      }
    },
    {
      "cell_type": "code",
      "source": [
        "dados.describe()"
      ],
      "metadata": {
        "colab": {
          "base_uri": "https://localhost:8080/",
          "height": 0
        },
        "id": "hJKLk-NWeASV",
        "outputId": "fb3ff801-6bc6-464a-e430-4423e51d0bdb"
      },
      "execution_count": 7,
      "outputs": [
        {
          "output_type": "execute_result",
          "data": {
            "text/plain": [
              "       idade_pessoa         renda  tempo_trabalhado  valor_emprestimo  \\\n",
              "count  34165.000000  3.386600e+04      32952.000000      33866.000000   \n",
              "mean      27.730806  6.601223e+04          4.787964       9587.026812   \n",
              "std        6.346158  6.154345e+04          4.139394       6320.764123   \n",
              "min       20.000000  4.000000e+03          0.000000        500.000000   \n",
              "25%       23.000000  3.840500e+04          2.000000       5000.000000   \n",
              "50%       26.000000  5.500000e+04          4.000000       8000.000000   \n",
              "75%       30.000000  7.905000e+04          7.000000      12200.000000   \n",
              "max      144.000000  6.000000e+06        123.000000      35000.000000   \n",
              "\n",
              "         taxa_juros  inadimplencia  renda_percentual_emprestimo  \\\n",
              "count  30596.000000   33853.000000                 33877.000000   \n",
              "mean      11.012763       0.218149                     0.170261   \n",
              "std        3.240257       0.412995                     0.106851   \n",
              "min        5.420000       0.000000                     0.000000   \n",
              "25%        7.900000       0.000000                     0.090000   \n",
              "50%       10.990000       0.000000                     0.150000   \n",
              "75%       13.470000       0.000000                     0.230000   \n",
              "max       23.220000       1.000000                     0.830000   \n",
              "\n",
              "       tempo_de_credito  \n",
              "count      34165.000000  \n",
              "mean           5.804947  \n",
              "std            4.057528  \n",
              "min            2.000000  \n",
              "25%            3.000000  \n",
              "50%            4.000000  \n",
              "75%            8.000000  \n",
              "max           30.000000  "
            ],
            "text/html": [
              "\n",
              "  <div id=\"df-e56c6a63-35ef-4498-8b82-d142a1c85da9\">\n",
              "    <div class=\"colab-df-container\">\n",
              "      <div>\n",
              "<style scoped>\n",
              "    .dataframe tbody tr th:only-of-type {\n",
              "        vertical-align: middle;\n",
              "    }\n",
              "\n",
              "    .dataframe tbody tr th {\n",
              "        vertical-align: top;\n",
              "    }\n",
              "\n",
              "    .dataframe thead th {\n",
              "        text-align: right;\n",
              "    }\n",
              "</style>\n",
              "<table border=\"1\" class=\"dataframe\">\n",
              "  <thead>\n",
              "    <tr style=\"text-align: right;\">\n",
              "      <th></th>\n",
              "      <th>idade_pessoa</th>\n",
              "      <th>renda</th>\n",
              "      <th>tempo_trabalhado</th>\n",
              "      <th>valor_emprestimo</th>\n",
              "      <th>taxa_juros</th>\n",
              "      <th>inadimplencia</th>\n",
              "      <th>renda_percentual_emprestimo</th>\n",
              "      <th>tempo_de_credito</th>\n",
              "    </tr>\n",
              "  </thead>\n",
              "  <tbody>\n",
              "    <tr>\n",
              "      <th>count</th>\n",
              "      <td>34165.000000</td>\n",
              "      <td>3.386600e+04</td>\n",
              "      <td>32952.000000</td>\n",
              "      <td>33866.000000</td>\n",
              "      <td>30596.000000</td>\n",
              "      <td>33853.000000</td>\n",
              "      <td>33877.000000</td>\n",
              "      <td>34165.000000</td>\n",
              "    </tr>\n",
              "    <tr>\n",
              "      <th>mean</th>\n",
              "      <td>27.730806</td>\n",
              "      <td>6.601223e+04</td>\n",
              "      <td>4.787964</td>\n",
              "      <td>9587.026812</td>\n",
              "      <td>11.012763</td>\n",
              "      <td>0.218149</td>\n",
              "      <td>0.170261</td>\n",
              "      <td>5.804947</td>\n",
              "    </tr>\n",
              "    <tr>\n",
              "      <th>std</th>\n",
              "      <td>6.346158</td>\n",
              "      <td>6.154345e+04</td>\n",
              "      <td>4.139394</td>\n",
              "      <td>6320.764123</td>\n",
              "      <td>3.240257</td>\n",
              "      <td>0.412995</td>\n",
              "      <td>0.106851</td>\n",
              "      <td>4.057528</td>\n",
              "    </tr>\n",
              "    <tr>\n",
              "      <th>min</th>\n",
              "      <td>20.000000</td>\n",
              "      <td>4.000000e+03</td>\n",
              "      <td>0.000000</td>\n",
              "      <td>500.000000</td>\n",
              "      <td>5.420000</td>\n",
              "      <td>0.000000</td>\n",
              "      <td>0.000000</td>\n",
              "      <td>2.000000</td>\n",
              "    </tr>\n",
              "    <tr>\n",
              "      <th>25%</th>\n",
              "      <td>23.000000</td>\n",
              "      <td>3.840500e+04</td>\n",
              "      <td>2.000000</td>\n",
              "      <td>5000.000000</td>\n",
              "      <td>7.900000</td>\n",
              "      <td>0.000000</td>\n",
              "      <td>0.090000</td>\n",
              "      <td>3.000000</td>\n",
              "    </tr>\n",
              "    <tr>\n",
              "      <th>50%</th>\n",
              "      <td>26.000000</td>\n",
              "      <td>5.500000e+04</td>\n",
              "      <td>4.000000</td>\n",
              "      <td>8000.000000</td>\n",
              "      <td>10.990000</td>\n",
              "      <td>0.000000</td>\n",
              "      <td>0.150000</td>\n",
              "      <td>4.000000</td>\n",
              "    </tr>\n",
              "    <tr>\n",
              "      <th>75%</th>\n",
              "      <td>30.000000</td>\n",
              "      <td>7.905000e+04</td>\n",
              "      <td>7.000000</td>\n",
              "      <td>12200.000000</td>\n",
              "      <td>13.470000</td>\n",
              "      <td>0.000000</td>\n",
              "      <td>0.230000</td>\n",
              "      <td>8.000000</td>\n",
              "    </tr>\n",
              "    <tr>\n",
              "      <th>max</th>\n",
              "      <td>144.000000</td>\n",
              "      <td>6.000000e+06</td>\n",
              "      <td>123.000000</td>\n",
              "      <td>35000.000000</td>\n",
              "      <td>23.220000</td>\n",
              "      <td>1.000000</td>\n",
              "      <td>0.830000</td>\n",
              "      <td>30.000000</td>\n",
              "    </tr>\n",
              "  </tbody>\n",
              "</table>\n",
              "</div>\n",
              "      <button class=\"colab-df-convert\" onclick=\"convertToInteractive('df-e56c6a63-35ef-4498-8b82-d142a1c85da9')\"\n",
              "              title=\"Convert this dataframe to an interactive table.\"\n",
              "              style=\"display:none;\">\n",
              "        \n",
              "  <svg xmlns=\"http://www.w3.org/2000/svg\" height=\"24px\"viewBox=\"0 0 24 24\"\n",
              "       width=\"24px\">\n",
              "    <path d=\"M0 0h24v24H0V0z\" fill=\"none\"/>\n",
              "    <path d=\"M18.56 5.44l.94 2.06.94-2.06 2.06-.94-2.06-.94-.94-2.06-.94 2.06-2.06.94zm-11 1L8.5 8.5l.94-2.06 2.06-.94-2.06-.94L8.5 2.5l-.94 2.06-2.06.94zm10 10l.94 2.06.94-2.06 2.06-.94-2.06-.94-.94-2.06-.94 2.06-2.06.94z\"/><path d=\"M17.41 7.96l-1.37-1.37c-.4-.4-.92-.59-1.43-.59-.52 0-1.04.2-1.43.59L10.3 9.45l-7.72 7.72c-.78.78-.78 2.05 0 2.83L4 21.41c.39.39.9.59 1.41.59.51 0 1.02-.2 1.41-.59l7.78-7.78 2.81-2.81c.8-.78.8-2.07 0-2.86zM5.41 20L4 18.59l7.72-7.72 1.47 1.35L5.41 20z\"/>\n",
              "  </svg>\n",
              "      </button>\n",
              "      \n",
              "  <style>\n",
              "    .colab-df-container {\n",
              "      display:flex;\n",
              "      flex-wrap:wrap;\n",
              "      gap: 12px;\n",
              "    }\n",
              "\n",
              "    .colab-df-convert {\n",
              "      background-color: #E8F0FE;\n",
              "      border: none;\n",
              "      border-radius: 50%;\n",
              "      cursor: pointer;\n",
              "      display: none;\n",
              "      fill: #1967D2;\n",
              "      height: 32px;\n",
              "      padding: 0 0 0 0;\n",
              "      width: 32px;\n",
              "    }\n",
              "\n",
              "    .colab-df-convert:hover {\n",
              "      background-color: #E2EBFA;\n",
              "      box-shadow: 0px 1px 2px rgba(60, 64, 67, 0.3), 0px 1px 3px 1px rgba(60, 64, 67, 0.15);\n",
              "      fill: #174EA6;\n",
              "    }\n",
              "\n",
              "    [theme=dark] .colab-df-convert {\n",
              "      background-color: #3B4455;\n",
              "      fill: #D2E3FC;\n",
              "    }\n",
              "\n",
              "    [theme=dark] .colab-df-convert:hover {\n",
              "      background-color: #434B5C;\n",
              "      box-shadow: 0px 1px 3px 1px rgba(0, 0, 0, 0.15);\n",
              "      filter: drop-shadow(0px 1px 2px rgba(0, 0, 0, 0.3));\n",
              "      fill: #FFFFFF;\n",
              "    }\n",
              "  </style>\n",
              "\n",
              "      <script>\n",
              "        const buttonEl =\n",
              "          document.querySelector('#df-e56c6a63-35ef-4498-8b82-d142a1c85da9 button.colab-df-convert');\n",
              "        buttonEl.style.display =\n",
              "          google.colab.kernel.accessAllowed ? 'block' : 'none';\n",
              "\n",
              "        async function convertToInteractive(key) {\n",
              "          const element = document.querySelector('#df-e56c6a63-35ef-4498-8b82-d142a1c85da9');\n",
              "          const dataTable =\n",
              "            await google.colab.kernel.invokeFunction('convertToInteractive',\n",
              "                                                     [key], {});\n",
              "          if (!dataTable) return;\n",
              "\n",
              "          const docLinkHtml = 'Like what you see? Visit the ' +\n",
              "            '<a target=\"_blank\" href=https://colab.research.google.com/notebooks/data_table.ipynb>data table notebook</a>'\n",
              "            + ' to learn more about interactive tables.';\n",
              "          element.innerHTML = '';\n",
              "          dataTable['output_type'] = 'display_data';\n",
              "          await google.colab.output.renderOutput(dataTable, element);\n",
              "          const docLink = document.createElement('div');\n",
              "          docLink.innerHTML = docLinkHtml;\n",
              "          element.appendChild(docLink);\n",
              "        }\n",
              "      </script>\n",
              "    </div>\n",
              "  </div>\n",
              "  "
            ]
          },
          "metadata": {},
          "execution_count": 7
        }
      ]
    },
    {
      "cell_type": "markdown",
      "source": [
        "Duas das variáveis `idade`e `tempo_trabalhado`possuem problemas visíveis:\n",
        "\n",
        "* uma pessoa tem uma idade de **144 anos**, o que é altamente improvável\n",
        "* outra possue tempo trabalhado de **123 anos**, igualmente improvável\n",
        "\n",
        "\n",
        "---\n",
        "\n",
        "Também é importante checar os valores únicos das variáveis categóricas. A identificação de `NULL` values é importante nessa etapa. Assim como saber a quantididade de categorias de cada variável.\n"
      ],
      "metadata": {
        "id": "Xw0sROyKgpTB"
      }
    },
    {
      "cell_type": "code",
      "source": [
        "dados.columns"
      ],
      "metadata": {
        "colab": {
          "base_uri": "https://localhost:8080/"
        },
        "id": "5RW2h5KgHDgp",
        "outputId": "a3d80168-2589-425b-d3a8-71f1c6ddf511"
      },
      "execution_count": 8,
      "outputs": [
        {
          "output_type": "execute_result",
          "data": {
            "text/plain": [
              "Index(['idade_pessoa', 'renda', 'tipo_moradia', 'tempo_trabalhado',\n",
              "       'motivo_emprestimo', 'pontuacao_emprestimo', 'valor_emprestimo',\n",
              "       'taxa_juros', 'inadimplencia', 'renda_percentual_emprestimo', 'devendo',\n",
              "       'tempo_de_credito'],\n",
              "      dtype='object')"
            ]
          },
          "metadata": {},
          "execution_count": 8
        }
      ]
    },
    {
      "cell_type": "code",
      "source": [
        "print(f'Tipo de Moradia: {dados[\"tipo_moradia\"].unique()}')"
      ],
      "metadata": {
        "id": "BAfxg3BigeVW",
        "colab": {
          "base_uri": "https://localhost:8080/"
        },
        "outputId": "f9b25366-c9c3-43fb-d1b6-66d3a19e874e"
      },
      "execution_count": 9,
      "outputs": [
        {
          "output_type": "stream",
          "name": "stdout",
          "text": [
            "Tipo de Moradia: ['Rent' 'Mortgage' 'Own' nan 'Other']\n"
          ]
        }
      ]
    },
    {
      "cell_type": "code",
      "source": [
        "print(f'Motivo do Empréstimo: {dados[\"motivo_emprestimo\"].unique()}')"
      ],
      "metadata": {
        "colab": {
          "base_uri": "https://localhost:8080/"
        },
        "id": "74PZi9FYG_sa",
        "outputId": "e089d9ef-c9f7-4306-f68e-aeb3128f004f"
      },
      "execution_count": 10,
      "outputs": [
        {
          "output_type": "stream",
          "name": "stdout",
          "text": [
            "Motivo do Empréstimo: ['Medical' 'Personal' 'Homeimprovement' 'Venture' 'Debtconsolidation'\n",
            " 'Education' nan]\n"
          ]
        }
      ]
    },
    {
      "cell_type": "code",
      "source": [
        "print(f'Pontuação Empréstimo: {dados[\"pontuacao_emprestimo\"].unique()}')"
      ],
      "metadata": {
        "colab": {
          "base_uri": "https://localhost:8080/"
        },
        "id": "yTutQf04Ie8U",
        "outputId": "72a98d0f-f3a7-4e8e-f78f-49b8e4b34c69"
      },
      "execution_count": 11,
      "outputs": [
        {
          "output_type": "stream",
          "name": "stdout",
          "text": [
            "Pontuação Empréstimo: ['A' 'B' 'D' 'C' 'E' nan 'G' 'F']\n"
          ]
        }
      ]
    },
    {
      "cell_type": "code",
      "source": [
        "print(f'É uma pessoa com histórico de inadimplência?: {dados[\"devendo\"].unique()}')"
      ],
      "metadata": {
        "colab": {
          "base_uri": "https://localhost:8080/"
        },
        "id": "72eVrPplIfti",
        "outputId": "016ba78e-f316-41ba-af04-c63e23a1c14a"
      },
      "execution_count": 12,
      "outputs": [
        {
          "output_type": "stream",
          "name": "stdout",
          "text": [
            "É uma pessoa com histórico de inadimplência?: ['N' 'Y' nan]\n"
          ]
        }
      ]
    },
    {
      "cell_type": "markdown",
      "source": [
        "\n",
        "\n",
        "*   Podemos observar que todas as colunas categóricas possuem dados `NaN` ou nulos. Esses valores nulos deverão ser removidos do dataset.\n",
        "*   Somente a variável `devendo` que aponta o histórico de inadimplência de uma pessoa possue categorias binárias (Y ou N) que deverão ser substituídos por 0 e 1.\n",
        "*   As demais variáveis `tipo_moradia`, `motivo_emprestimo` e `pontuacao_emprestimo`também deverão ser trabalhadas. Aqui é possível aplicar um método chamado **one-hot-encoding** para ajustar isso.\n"
      ],
      "metadata": {
        "id": "ASgtckpDJjxc"
      }
    },
    {
      "cell_type": "markdown",
      "source": [
        "Importante também é verificar o balanceamento da variável `inadimplencia:"
      ],
      "metadata": {
        "id": "jy_ViqaPLNVU"
      }
    },
    {
      "cell_type": "code",
      "source": [
        "dados[\"inadimplencia\"].value_counts(normalize = True)"
      ],
      "metadata": {
        "colab": {
          "base_uri": "https://localhost:8080/"
        },
        "id": "F0Kps0NFKw0v",
        "outputId": "ce41ae0d-83ec-409c-a454-1da27604f28f"
      },
      "execution_count": 13,
      "outputs": [
        {
          "output_type": "execute_result",
          "data": {
            "text/plain": [
              "0.0    0.781851\n",
              "1.0    0.218149\n",
              "Name: inadimplencia, dtype: float64"
            ]
          },
          "metadata": {},
          "execution_count": 13
        }
      ]
    },
    {
      "cell_type": "markdown",
      "source": [
        "Nota-se que essa variável está desbalanceada. Isso pode causar sérios problemas na etapa de treino do nosso modelo. Entretanto, podemos usar alguns métodos e procedimentos da biblioteca `sklearn` para isso."
      ],
      "metadata": {
        "id": "HoQyklXeLOve"
      }
    },
    {
      "cell_type": "markdown",
      "source": [
        "### **Limpeza dos Dados**\n",
        "\n",
        "Tendo uma primeira compreensão do nosso dataset, podemos iniciar o processo de limpeda dos dados.\n",
        "\n",
        "Considerando que vamos remover os dados nulos, precisamos ter uma noção de quanta informação iremos perder nesse processo."
      ],
      "metadata": {
        "id": "Ii7uZurkL_nU"
      }
    },
    {
      "cell_type": "code",
      "source": [
        "print(f'Quantidade de registros: {dados.shape[0]}')"
      ],
      "metadata": {
        "colab": {
          "base_uri": "https://localhost:8080/"
        },
        "id": "X8xe8LVrMUYs",
        "outputId": "92633f66-10eb-4483-ae98-6b7c559345df"
      },
      "execution_count": 14,
      "outputs": [
        {
          "output_type": "stream",
          "name": "stdout",
          "text": [
            "Quantidade de registros: 34165\n"
          ]
        }
      ]
    },
    {
      "cell_type": "code",
      "source": [
        "dados.isna().sum()"
      ],
      "metadata": {
        "colab": {
          "base_uri": "https://localhost:8080/"
        },
        "id": "YLEqYUGdMeYF",
        "outputId": "abdfeb53-e309-4318-d521-9964b1720f8f"
      },
      "execution_count": 15,
      "outputs": [
        {
          "output_type": "execute_result",
          "data": {
            "text/plain": [
              "idade_pessoa                      0\n",
              "renda                           299\n",
              "tipo_moradia                    303\n",
              "tempo_trabalhado               1213\n",
              "motivo_emprestimo               287\n",
              "pontuacao_emprestimo            286\n",
              "valor_emprestimo                299\n",
              "taxa_juros                     3569\n",
              "inadimplencia                   312\n",
              "renda_percentual_emprestimo     288\n",
              "devendo                         329\n",
              "tempo_de_credito                  0\n",
              "dtype: int64"
            ]
          },
          "metadata": {},
          "execution_count": 15
        }
      ]
    },
    {
      "cell_type": "markdown",
      "source": [
        "Como foi feito um pré-tratamento de dados ainda no SQL, temos uma quantidade bem reduzida de valores nulos. Julgo que a perda de informação nesse caso é muito pouca considerando o ganho de agilidade."
      ],
      "metadata": {
        "id": "OSV8gPfbMp2j"
      }
    },
    {
      "cell_type": "code",
      "source": [
        "dados = dados.dropna()"
      ],
      "metadata": {
        "id": "AB--FLdENAF8"
      },
      "execution_count": 16,
      "outputs": []
    },
    {
      "cell_type": "code",
      "source": [
        "print(f'Quantidade de registros após exclusão de valores nulos: {dados.shape[0]}')"
      ],
      "metadata": {
        "colab": {
          "base_uri": "https://localhost:8080/"
        },
        "id": "T_FA-ZNeNFXl",
        "outputId": "aca58b69-95f7-494b-e08c-9fa04b3c18f6"
      },
      "execution_count": 17,
      "outputs": [
        {
          "output_type": "stream",
          "name": "stdout",
          "text": [
            "Quantidade de registros após exclusão de valores nulos: 28638\n"
          ]
        }
      ]
    },
    {
      "cell_type": "code",
      "source": [
        "print(f'Foram removidos um total de {34501-dados.shape[0]} registros do dataset original')"
      ],
      "metadata": {
        "colab": {
          "base_uri": "https://localhost:8080/"
        },
        "id": "wcad1Uz-Ndku",
        "outputId": "80b75d41-9bf7-4fb8-9ccd-2bb6f692798e"
      },
      "execution_count": 18,
      "outputs": [
        {
          "output_type": "stream",
          "name": "stdout",
          "text": [
            "Foram removidos um total de 5863 registros do dataset original\n"
          ]
        }
      ]
    },
    {
      "cell_type": "markdown",
      "source": [
        "Agora precisamos verificar e remover os dados que estão discrepantes. Podemos usar query para facilitar nossas buscas."
      ],
      "metadata": {
        "id": "x5hAAcg07ESd"
      }
    },
    {
      "cell_type": "code",
      "source": [
        "dados.query('idade_pessoa > 110')"
      ],
      "metadata": {
        "colab": {
          "base_uri": "https://localhost:8080/",
          "height": 239
        },
        "id": "pCqSQ43562jk",
        "outputId": "87f05599-4d27-4307-b9ad-8e9b8f39ee60"
      },
      "execution_count": 19,
      "outputs": [
        {
          "output_type": "execute_result",
          "data": {
            "text/plain": [
              "       idade_pessoa      renda tipo_moradia  tempo_trabalhado  \\\n",
              "13728           144  6000000.0     Mortgage              12.0   \n",
              "17114           123    80004.0         Rent               2.0   \n",
              "21914           144   200000.0     Mortgage               4.0   \n",
              "28954           144   250000.0         Rent               4.0   \n",
              "\n",
              "      motivo_emprestimo pontuacao_emprestimo  valor_emprestimo  taxa_juros  \\\n",
              "13728          Personal                    C            5000.0       12.73   \n",
              "17114         Education                    B           20400.0       10.25   \n",
              "21914         Education                    B            6000.0       11.86   \n",
              "28954           Venture                    C            4800.0       13.57   \n",
              "\n",
              "       inadimplencia  renda_percentual_emprestimo devendo  tempo_de_credito  \n",
              "13728            0.0                         0.00       N                25  \n",
              "17114            0.0                         0.25       N                 3  \n",
              "21914            0.0                         0.03       N                 2  \n",
              "28954            0.0                         0.02       N                 3  "
            ],
            "text/html": [
              "\n",
              "  <div id=\"df-d6c92561-f009-4c34-8de8-fe560805582f\">\n",
              "    <div class=\"colab-df-container\">\n",
              "      <div>\n",
              "<style scoped>\n",
              "    .dataframe tbody tr th:only-of-type {\n",
              "        vertical-align: middle;\n",
              "    }\n",
              "\n",
              "    .dataframe tbody tr th {\n",
              "        vertical-align: top;\n",
              "    }\n",
              "\n",
              "    .dataframe thead th {\n",
              "        text-align: right;\n",
              "    }\n",
              "</style>\n",
              "<table border=\"1\" class=\"dataframe\">\n",
              "  <thead>\n",
              "    <tr style=\"text-align: right;\">\n",
              "      <th></th>\n",
              "      <th>idade_pessoa</th>\n",
              "      <th>renda</th>\n",
              "      <th>tipo_moradia</th>\n",
              "      <th>tempo_trabalhado</th>\n",
              "      <th>motivo_emprestimo</th>\n",
              "      <th>pontuacao_emprestimo</th>\n",
              "      <th>valor_emprestimo</th>\n",
              "      <th>taxa_juros</th>\n",
              "      <th>inadimplencia</th>\n",
              "      <th>renda_percentual_emprestimo</th>\n",
              "      <th>devendo</th>\n",
              "      <th>tempo_de_credito</th>\n",
              "    </tr>\n",
              "  </thead>\n",
              "  <tbody>\n",
              "    <tr>\n",
              "      <th>13728</th>\n",
              "      <td>144</td>\n",
              "      <td>6000000.0</td>\n",
              "      <td>Mortgage</td>\n",
              "      <td>12.0</td>\n",
              "      <td>Personal</td>\n",
              "      <td>C</td>\n",
              "      <td>5000.0</td>\n",
              "      <td>12.73</td>\n",
              "      <td>0.0</td>\n",
              "      <td>0.00</td>\n",
              "      <td>N</td>\n",
              "      <td>25</td>\n",
              "    </tr>\n",
              "    <tr>\n",
              "      <th>17114</th>\n",
              "      <td>123</td>\n",
              "      <td>80004.0</td>\n",
              "      <td>Rent</td>\n",
              "      <td>2.0</td>\n",
              "      <td>Education</td>\n",
              "      <td>B</td>\n",
              "      <td>20400.0</td>\n",
              "      <td>10.25</td>\n",
              "      <td>0.0</td>\n",
              "      <td>0.25</td>\n",
              "      <td>N</td>\n",
              "      <td>3</td>\n",
              "    </tr>\n",
              "    <tr>\n",
              "      <th>21914</th>\n",
              "      <td>144</td>\n",
              "      <td>200000.0</td>\n",
              "      <td>Mortgage</td>\n",
              "      <td>4.0</td>\n",
              "      <td>Education</td>\n",
              "      <td>B</td>\n",
              "      <td>6000.0</td>\n",
              "      <td>11.86</td>\n",
              "      <td>0.0</td>\n",
              "      <td>0.03</td>\n",
              "      <td>N</td>\n",
              "      <td>2</td>\n",
              "    </tr>\n",
              "    <tr>\n",
              "      <th>28954</th>\n",
              "      <td>144</td>\n",
              "      <td>250000.0</td>\n",
              "      <td>Rent</td>\n",
              "      <td>4.0</td>\n",
              "      <td>Venture</td>\n",
              "      <td>C</td>\n",
              "      <td>4800.0</td>\n",
              "      <td>13.57</td>\n",
              "      <td>0.0</td>\n",
              "      <td>0.02</td>\n",
              "      <td>N</td>\n",
              "      <td>3</td>\n",
              "    </tr>\n",
              "  </tbody>\n",
              "</table>\n",
              "</div>\n",
              "      <button class=\"colab-df-convert\" onclick=\"convertToInteractive('df-d6c92561-f009-4c34-8de8-fe560805582f')\"\n",
              "              title=\"Convert this dataframe to an interactive table.\"\n",
              "              style=\"display:none;\">\n",
              "        \n",
              "  <svg xmlns=\"http://www.w3.org/2000/svg\" height=\"24px\"viewBox=\"0 0 24 24\"\n",
              "       width=\"24px\">\n",
              "    <path d=\"M0 0h24v24H0V0z\" fill=\"none\"/>\n",
              "    <path d=\"M18.56 5.44l.94 2.06.94-2.06 2.06-.94-2.06-.94-.94-2.06-.94 2.06-2.06.94zm-11 1L8.5 8.5l.94-2.06 2.06-.94-2.06-.94L8.5 2.5l-.94 2.06-2.06.94zm10 10l.94 2.06.94-2.06 2.06-.94-2.06-.94-.94-2.06-.94 2.06-2.06.94z\"/><path d=\"M17.41 7.96l-1.37-1.37c-.4-.4-.92-.59-1.43-.59-.52 0-1.04.2-1.43.59L10.3 9.45l-7.72 7.72c-.78.78-.78 2.05 0 2.83L4 21.41c.39.39.9.59 1.41.59.51 0 1.02-.2 1.41-.59l7.78-7.78 2.81-2.81c.8-.78.8-2.07 0-2.86zM5.41 20L4 18.59l7.72-7.72 1.47 1.35L5.41 20z\"/>\n",
              "  </svg>\n",
              "      </button>\n",
              "      \n",
              "  <style>\n",
              "    .colab-df-container {\n",
              "      display:flex;\n",
              "      flex-wrap:wrap;\n",
              "      gap: 12px;\n",
              "    }\n",
              "\n",
              "    .colab-df-convert {\n",
              "      background-color: #E8F0FE;\n",
              "      border: none;\n",
              "      border-radius: 50%;\n",
              "      cursor: pointer;\n",
              "      display: none;\n",
              "      fill: #1967D2;\n",
              "      height: 32px;\n",
              "      padding: 0 0 0 0;\n",
              "      width: 32px;\n",
              "    }\n",
              "\n",
              "    .colab-df-convert:hover {\n",
              "      background-color: #E2EBFA;\n",
              "      box-shadow: 0px 1px 2px rgba(60, 64, 67, 0.3), 0px 1px 3px 1px rgba(60, 64, 67, 0.15);\n",
              "      fill: #174EA6;\n",
              "    }\n",
              "\n",
              "    [theme=dark] .colab-df-convert {\n",
              "      background-color: #3B4455;\n",
              "      fill: #D2E3FC;\n",
              "    }\n",
              "\n",
              "    [theme=dark] .colab-df-convert:hover {\n",
              "      background-color: #434B5C;\n",
              "      box-shadow: 0px 1px 3px 1px rgba(0, 0, 0, 0.15);\n",
              "      filter: drop-shadow(0px 1px 2px rgba(0, 0, 0, 0.3));\n",
              "      fill: #FFFFFF;\n",
              "    }\n",
              "  </style>\n",
              "\n",
              "      <script>\n",
              "        const buttonEl =\n",
              "          document.querySelector('#df-d6c92561-f009-4c34-8de8-fe560805582f button.colab-df-convert');\n",
              "        buttonEl.style.display =\n",
              "          google.colab.kernel.accessAllowed ? 'block' : 'none';\n",
              "\n",
              "        async function convertToInteractive(key) {\n",
              "          const element = document.querySelector('#df-d6c92561-f009-4c34-8de8-fe560805582f');\n",
              "          const dataTable =\n",
              "            await google.colab.kernel.invokeFunction('convertToInteractive',\n",
              "                                                     [key], {});\n",
              "          if (!dataTable) return;\n",
              "\n",
              "          const docLinkHtml = 'Like what you see? Visit the ' +\n",
              "            '<a target=\"_blank\" href=https://colab.research.google.com/notebooks/data_table.ipynb>data table notebook</a>'\n",
              "            + ' to learn more about interactive tables.';\n",
              "          element.innerHTML = '';\n",
              "          dataTable['output_type'] = 'display_data';\n",
              "          await google.colab.output.renderOutput(dataTable, element);\n",
              "          const docLink = document.createElement('div');\n",
              "          docLink.innerHTML = docLinkHtml;\n",
              "          element.appendChild(docLink);\n",
              "        }\n",
              "      </script>\n",
              "    </div>\n",
              "  </div>\n",
              "  "
            ]
          },
          "metadata": {},
          "execution_count": 19
        }
      ]
    },
    {
      "cell_type": "code",
      "source": [
        "dados.query('tempo_trabalhado > 110')"
      ],
      "metadata": {
        "colab": {
          "base_uri": "https://localhost:8080/",
          "height": 176
        },
        "outputId": "77cc66fd-ea35-41a7-c7f2-a4cc71bdc008",
        "id": "V-_5B30M8LLm"
      },
      "execution_count": 20,
      "outputs": [
        {
          "output_type": "execute_result",
          "data": {
            "text/plain": [
              "       idade_pessoa     renda tipo_moradia  tempo_trabalhado  \\\n",
              "8120             22   59000.0         Rent             123.0   \n",
              "20970            21  192000.0     Mortgage             123.0   \n",
              "\n",
              "      motivo_emprestimo pontuacao_emprestimo  valor_emprestimo  taxa_juros  \\\n",
              "8120           Personal                    D           35000.0       16.02   \n",
              "20970           Venture                    A           20000.0        6.54   \n",
              "\n",
              "       inadimplencia  renda_percentual_emprestimo devendo  tempo_de_credito  \n",
              "8120             1.0                         0.59       Y                 3  \n",
              "20970            0.0                         0.10       N                 4  "
            ],
            "text/html": [
              "\n",
              "  <div id=\"df-96c837e6-9036-4a1c-9508-285f8fff8dba\">\n",
              "    <div class=\"colab-df-container\">\n",
              "      <div>\n",
              "<style scoped>\n",
              "    .dataframe tbody tr th:only-of-type {\n",
              "        vertical-align: middle;\n",
              "    }\n",
              "\n",
              "    .dataframe tbody tr th {\n",
              "        vertical-align: top;\n",
              "    }\n",
              "\n",
              "    .dataframe thead th {\n",
              "        text-align: right;\n",
              "    }\n",
              "</style>\n",
              "<table border=\"1\" class=\"dataframe\">\n",
              "  <thead>\n",
              "    <tr style=\"text-align: right;\">\n",
              "      <th></th>\n",
              "      <th>idade_pessoa</th>\n",
              "      <th>renda</th>\n",
              "      <th>tipo_moradia</th>\n",
              "      <th>tempo_trabalhado</th>\n",
              "      <th>motivo_emprestimo</th>\n",
              "      <th>pontuacao_emprestimo</th>\n",
              "      <th>valor_emprestimo</th>\n",
              "      <th>taxa_juros</th>\n",
              "      <th>inadimplencia</th>\n",
              "      <th>renda_percentual_emprestimo</th>\n",
              "      <th>devendo</th>\n",
              "      <th>tempo_de_credito</th>\n",
              "    </tr>\n",
              "  </thead>\n",
              "  <tbody>\n",
              "    <tr>\n",
              "      <th>8120</th>\n",
              "      <td>22</td>\n",
              "      <td>59000.0</td>\n",
              "      <td>Rent</td>\n",
              "      <td>123.0</td>\n",
              "      <td>Personal</td>\n",
              "      <td>D</td>\n",
              "      <td>35000.0</td>\n",
              "      <td>16.02</td>\n",
              "      <td>1.0</td>\n",
              "      <td>0.59</td>\n",
              "      <td>Y</td>\n",
              "      <td>3</td>\n",
              "    </tr>\n",
              "    <tr>\n",
              "      <th>20970</th>\n",
              "      <td>21</td>\n",
              "      <td>192000.0</td>\n",
              "      <td>Mortgage</td>\n",
              "      <td>123.0</td>\n",
              "      <td>Venture</td>\n",
              "      <td>A</td>\n",
              "      <td>20000.0</td>\n",
              "      <td>6.54</td>\n",
              "      <td>0.0</td>\n",
              "      <td>0.10</td>\n",
              "      <td>N</td>\n",
              "      <td>4</td>\n",
              "    </tr>\n",
              "  </tbody>\n",
              "</table>\n",
              "</div>\n",
              "      <button class=\"colab-df-convert\" onclick=\"convertToInteractive('df-96c837e6-9036-4a1c-9508-285f8fff8dba')\"\n",
              "              title=\"Convert this dataframe to an interactive table.\"\n",
              "              style=\"display:none;\">\n",
              "        \n",
              "  <svg xmlns=\"http://www.w3.org/2000/svg\" height=\"24px\"viewBox=\"0 0 24 24\"\n",
              "       width=\"24px\">\n",
              "    <path d=\"M0 0h24v24H0V0z\" fill=\"none\"/>\n",
              "    <path d=\"M18.56 5.44l.94 2.06.94-2.06 2.06-.94-2.06-.94-.94-2.06-.94 2.06-2.06.94zm-11 1L8.5 8.5l.94-2.06 2.06-.94-2.06-.94L8.5 2.5l-.94 2.06-2.06.94zm10 10l.94 2.06.94-2.06 2.06-.94-2.06-.94-.94-2.06-.94 2.06-2.06.94z\"/><path d=\"M17.41 7.96l-1.37-1.37c-.4-.4-.92-.59-1.43-.59-.52 0-1.04.2-1.43.59L10.3 9.45l-7.72 7.72c-.78.78-.78 2.05 0 2.83L4 21.41c.39.39.9.59 1.41.59.51 0 1.02-.2 1.41-.59l7.78-7.78 2.81-2.81c.8-.78.8-2.07 0-2.86zM5.41 20L4 18.59l7.72-7.72 1.47 1.35L5.41 20z\"/>\n",
              "  </svg>\n",
              "      </button>\n",
              "      \n",
              "  <style>\n",
              "    .colab-df-container {\n",
              "      display:flex;\n",
              "      flex-wrap:wrap;\n",
              "      gap: 12px;\n",
              "    }\n",
              "\n",
              "    .colab-df-convert {\n",
              "      background-color: #E8F0FE;\n",
              "      border: none;\n",
              "      border-radius: 50%;\n",
              "      cursor: pointer;\n",
              "      display: none;\n",
              "      fill: #1967D2;\n",
              "      height: 32px;\n",
              "      padding: 0 0 0 0;\n",
              "      width: 32px;\n",
              "    }\n",
              "\n",
              "    .colab-df-convert:hover {\n",
              "      background-color: #E2EBFA;\n",
              "      box-shadow: 0px 1px 2px rgba(60, 64, 67, 0.3), 0px 1px 3px 1px rgba(60, 64, 67, 0.15);\n",
              "      fill: #174EA6;\n",
              "    }\n",
              "\n",
              "    [theme=dark] .colab-df-convert {\n",
              "      background-color: #3B4455;\n",
              "      fill: #D2E3FC;\n",
              "    }\n",
              "\n",
              "    [theme=dark] .colab-df-convert:hover {\n",
              "      background-color: #434B5C;\n",
              "      box-shadow: 0px 1px 3px 1px rgba(0, 0, 0, 0.15);\n",
              "      filter: drop-shadow(0px 1px 2px rgba(0, 0, 0, 0.3));\n",
              "      fill: #FFFFFF;\n",
              "    }\n",
              "  </style>\n",
              "\n",
              "      <script>\n",
              "        const buttonEl =\n",
              "          document.querySelector('#df-96c837e6-9036-4a1c-9508-285f8fff8dba button.colab-df-convert');\n",
              "        buttonEl.style.display =\n",
              "          google.colab.kernel.accessAllowed ? 'block' : 'none';\n",
              "\n",
              "        async function convertToInteractive(key) {\n",
              "          const element = document.querySelector('#df-96c837e6-9036-4a1c-9508-285f8fff8dba');\n",
              "          const dataTable =\n",
              "            await google.colab.kernel.invokeFunction('convertToInteractive',\n",
              "                                                     [key], {});\n",
              "          if (!dataTable) return;\n",
              "\n",
              "          const docLinkHtml = 'Like what you see? Visit the ' +\n",
              "            '<a target=\"_blank\" href=https://colab.research.google.com/notebooks/data_table.ipynb>data table notebook</a>'\n",
              "            + ' to learn more about interactive tables.';\n",
              "          element.innerHTML = '';\n",
              "          dataTable['output_type'] = 'display_data';\n",
              "          await google.colab.output.renderOutput(dataTable, element);\n",
              "          const docLink = document.createElement('div');\n",
              "          docLink.innerHTML = docLinkHtml;\n",
              "          element.appendChild(docLink);\n",
              "        }\n",
              "      </script>\n",
              "    </div>\n",
              "  </div>\n",
              "  "
            ]
          },
          "metadata": {},
          "execution_count": 20
        }
      ]
    },
    {
      "cell_type": "code",
      "source": [
        "dados = dados.query('idade_pessoa < 110 & tempo_trabalhado < 100')\n"
      ],
      "metadata": {
        "id": "IDk2wVbH7wD4"
      },
      "execution_count": 21,
      "outputs": []
    },
    {
      "cell_type": "markdown",
      "source": [
        "Também devemos alterar o tipo da variável `tempo_trabalhado` para o tipo inteiro (int64)."
      ],
      "metadata": {
        "id": "Ae9yLbXr82oe"
      }
    },
    {
      "cell_type": "code",
      "source": [
        "dados.loc[:, \"tempo_trabalhado\"] = dados.loc[:, \"tempo_trabalhado\"].astype(np.int64) # usando o .loc evitamos o warning de usar dados['tempo_trabalho'] = dados['tempo_trabalho'].astype(np.int64)\n",
        "dados.info()"
      ],
      "metadata": {
        "colab": {
          "base_uri": "https://localhost:8080/"
        },
        "id": "E_lPtkoN8tA0",
        "outputId": "c28da1b0-59fb-463d-ec5c-e10521020c03"
      },
      "execution_count": 22,
      "outputs": [
        {
          "output_type": "stream",
          "name": "stdout",
          "text": [
            "<class 'pandas.core.frame.DataFrame'>\n",
            "Int64Index: 28632 entries, 0 to 34164\n",
            "Data columns (total 12 columns):\n",
            " #   Column                       Non-Null Count  Dtype  \n",
            "---  ------                       --------------  -----  \n",
            " 0   idade_pessoa                 28632 non-null  int64  \n",
            " 1   renda                        28632 non-null  float64\n",
            " 2   tipo_moradia                 28632 non-null  object \n",
            " 3   tempo_trabalhado             28632 non-null  int64  \n",
            " 4   motivo_emprestimo            28632 non-null  object \n",
            " 5   pontuacao_emprestimo         28632 non-null  object \n",
            " 6   valor_emprestimo             28632 non-null  float64\n",
            " 7   taxa_juros                   28632 non-null  float64\n",
            " 8   inadimplencia                28632 non-null  float64\n",
            " 9   renda_percentual_emprestimo  28632 non-null  float64\n",
            " 10  devendo                      28632 non-null  object \n",
            " 11  tempo_de_credito             28632 non-null  int64  \n",
            "dtypes: float64(5), int64(3), object(4)\n",
            "memory usage: 2.8+ MB\n"
          ]
        },
        {
          "output_type": "stream",
          "name": "stderr",
          "text": [
            "/usr/local/lib/python3.7/dist-packages/pandas/core/indexing.py:1773: SettingWithCopyWarning: \n",
            "A value is trying to be set on a copy of a slice from a DataFrame.\n",
            "Try using .loc[row_indexer,col_indexer] = value instead\n",
            "\n",
            "See the caveats in the documentation: https://pandas.pydata.org/pandas-docs/stable/user_guide/indexing.html#returning-a-view-versus-a-copy\n",
            "  self._setitem_single_column(ilocs[0], value, pi)\n"
          ]
        }
      ]
    },
    {
      "cell_type": "markdown",
      "source": [
        "### Tratamento de dados\n",
        "\n",
        "Tendo executado todas as etapas até agora, é necessário realizar o tratamento dos dados para que eles possam ser usados na etapa de modelagem.\n",
        "\n",
        "---\n",
        "\n",
        "As variáveis categóricas deverão ser transformadas em variáveis *dummy* enquanto as numéricas serão normalizadas para ficarem em uma mesma escala, evitando problemas de balanceamento."
      ],
      "metadata": {
        "id": "mm71kFiz_95L"
      }
    },
    {
      "cell_type": "markdown",
      "source": [
        "Um ponto importante é verificar quais variáveis numéricas estão correlacionadas de maneira positiva ou negativa."
      ],
      "metadata": {
        "id": "scGH3EoMAuDE"
      }
    },
    {
      "cell_type": "code",
      "source": [
        "dados.corr()"
      ],
      "metadata": {
        "colab": {
          "base_uri": "https://localhost:8080/",
          "height": 300
        },
        "id": "OnCzspin_8gP",
        "outputId": "89ac582e-67c8-4144-994f-5b8c934212c7"
      },
      "execution_count": 23,
      "outputs": [
        {
          "output_type": "execute_result",
          "data": {
            "text/plain": [
              "                             idade_pessoa     renda  tempo_trabalhado  \\\n",
              "idade_pessoa                     1.000000  0.141471          0.176054   \n",
              "renda                            0.141471  1.000000          0.160952   \n",
              "tempo_trabalhado                 0.176054  0.160952          1.000000   \n",
              "valor_emprestimo                 0.056061  0.324766          0.108390   \n",
              "taxa_juros                       0.010370 -0.003767         -0.058263   \n",
              "inadimplencia                   -0.022498 -0.167028         -0.086486   \n",
              "renda_percentual_emprestimo     -0.039476 -0.297635         -0.060099   \n",
              "tempo_de_credito                 0.877581  0.122787          0.151571   \n",
              "\n",
              "                             valor_emprestimo  taxa_juros  inadimplencia  \\\n",
              "idade_pessoa                         0.056061    0.010370      -0.022498   \n",
              "renda                                0.324766   -0.003767      -0.167028   \n",
              "tempo_trabalhado                     0.108390   -0.058263      -0.086486   \n",
              "valor_emprestimo                     1.000000    0.145895       0.113363   \n",
              "taxa_juros                           0.145895    1.000000       0.339307   \n",
              "inadimplencia                        0.113363    0.339307       1.000000   \n",
              "renda_percentual_emprestimo          0.577197    0.123401       0.379534   \n",
              "tempo_de_credito                     0.045580    0.015330      -0.015575   \n",
              "\n",
              "                             renda_percentual_emprestimo  tempo_de_credito  \n",
              "idade_pessoa                                   -0.039476          0.877581  \n",
              "renda                                          -0.297635          0.122787  \n",
              "tempo_trabalhado                               -0.060099          0.151571  \n",
              "valor_emprestimo                                0.577197          0.045580  \n",
              "taxa_juros                                      0.123401          0.015330  \n",
              "inadimplencia                                   0.379534         -0.015575  \n",
              "renda_percentual_emprestimo                     1.000000         -0.029814  \n",
              "tempo_de_credito                               -0.029814          1.000000  "
            ],
            "text/html": [
              "\n",
              "  <div id=\"df-c3ab11f7-bd98-4190-a269-294ac0fa0f7a\">\n",
              "    <div class=\"colab-df-container\">\n",
              "      <div>\n",
              "<style scoped>\n",
              "    .dataframe tbody tr th:only-of-type {\n",
              "        vertical-align: middle;\n",
              "    }\n",
              "\n",
              "    .dataframe tbody tr th {\n",
              "        vertical-align: top;\n",
              "    }\n",
              "\n",
              "    .dataframe thead th {\n",
              "        text-align: right;\n",
              "    }\n",
              "</style>\n",
              "<table border=\"1\" class=\"dataframe\">\n",
              "  <thead>\n",
              "    <tr style=\"text-align: right;\">\n",
              "      <th></th>\n",
              "      <th>idade_pessoa</th>\n",
              "      <th>renda</th>\n",
              "      <th>tempo_trabalhado</th>\n",
              "      <th>valor_emprestimo</th>\n",
              "      <th>taxa_juros</th>\n",
              "      <th>inadimplencia</th>\n",
              "      <th>renda_percentual_emprestimo</th>\n",
              "      <th>tempo_de_credito</th>\n",
              "    </tr>\n",
              "  </thead>\n",
              "  <tbody>\n",
              "    <tr>\n",
              "      <th>idade_pessoa</th>\n",
              "      <td>1.000000</td>\n",
              "      <td>0.141471</td>\n",
              "      <td>0.176054</td>\n",
              "      <td>0.056061</td>\n",
              "      <td>0.010370</td>\n",
              "      <td>-0.022498</td>\n",
              "      <td>-0.039476</td>\n",
              "      <td>0.877581</td>\n",
              "    </tr>\n",
              "    <tr>\n",
              "      <th>renda</th>\n",
              "      <td>0.141471</td>\n",
              "      <td>1.000000</td>\n",
              "      <td>0.160952</td>\n",
              "      <td>0.324766</td>\n",
              "      <td>-0.003767</td>\n",
              "      <td>-0.167028</td>\n",
              "      <td>-0.297635</td>\n",
              "      <td>0.122787</td>\n",
              "    </tr>\n",
              "    <tr>\n",
              "      <th>tempo_trabalhado</th>\n",
              "      <td>0.176054</td>\n",
              "      <td>0.160952</td>\n",
              "      <td>1.000000</td>\n",
              "      <td>0.108390</td>\n",
              "      <td>-0.058263</td>\n",
              "      <td>-0.086486</td>\n",
              "      <td>-0.060099</td>\n",
              "      <td>0.151571</td>\n",
              "    </tr>\n",
              "    <tr>\n",
              "      <th>valor_emprestimo</th>\n",
              "      <td>0.056061</td>\n",
              "      <td>0.324766</td>\n",
              "      <td>0.108390</td>\n",
              "      <td>1.000000</td>\n",
              "      <td>0.145895</td>\n",
              "      <td>0.113363</td>\n",
              "      <td>0.577197</td>\n",
              "      <td>0.045580</td>\n",
              "    </tr>\n",
              "    <tr>\n",
              "      <th>taxa_juros</th>\n",
              "      <td>0.010370</td>\n",
              "      <td>-0.003767</td>\n",
              "      <td>-0.058263</td>\n",
              "      <td>0.145895</td>\n",
              "      <td>1.000000</td>\n",
              "      <td>0.339307</td>\n",
              "      <td>0.123401</td>\n",
              "      <td>0.015330</td>\n",
              "    </tr>\n",
              "    <tr>\n",
              "      <th>inadimplencia</th>\n",
              "      <td>-0.022498</td>\n",
              "      <td>-0.167028</td>\n",
              "      <td>-0.086486</td>\n",
              "      <td>0.113363</td>\n",
              "      <td>0.339307</td>\n",
              "      <td>1.000000</td>\n",
              "      <td>0.379534</td>\n",
              "      <td>-0.015575</td>\n",
              "    </tr>\n",
              "    <tr>\n",
              "      <th>renda_percentual_emprestimo</th>\n",
              "      <td>-0.039476</td>\n",
              "      <td>-0.297635</td>\n",
              "      <td>-0.060099</td>\n",
              "      <td>0.577197</td>\n",
              "      <td>0.123401</td>\n",
              "      <td>0.379534</td>\n",
              "      <td>1.000000</td>\n",
              "      <td>-0.029814</td>\n",
              "    </tr>\n",
              "    <tr>\n",
              "      <th>tempo_de_credito</th>\n",
              "      <td>0.877581</td>\n",
              "      <td>0.122787</td>\n",
              "      <td>0.151571</td>\n",
              "      <td>0.045580</td>\n",
              "      <td>0.015330</td>\n",
              "      <td>-0.015575</td>\n",
              "      <td>-0.029814</td>\n",
              "      <td>1.000000</td>\n",
              "    </tr>\n",
              "  </tbody>\n",
              "</table>\n",
              "</div>\n",
              "      <button class=\"colab-df-convert\" onclick=\"convertToInteractive('df-c3ab11f7-bd98-4190-a269-294ac0fa0f7a')\"\n",
              "              title=\"Convert this dataframe to an interactive table.\"\n",
              "              style=\"display:none;\">\n",
              "        \n",
              "  <svg xmlns=\"http://www.w3.org/2000/svg\" height=\"24px\"viewBox=\"0 0 24 24\"\n",
              "       width=\"24px\">\n",
              "    <path d=\"M0 0h24v24H0V0z\" fill=\"none\"/>\n",
              "    <path d=\"M18.56 5.44l.94 2.06.94-2.06 2.06-.94-2.06-.94-.94-2.06-.94 2.06-2.06.94zm-11 1L8.5 8.5l.94-2.06 2.06-.94-2.06-.94L8.5 2.5l-.94 2.06-2.06.94zm10 10l.94 2.06.94-2.06 2.06-.94-2.06-.94-.94-2.06-.94 2.06-2.06.94z\"/><path d=\"M17.41 7.96l-1.37-1.37c-.4-.4-.92-.59-1.43-.59-.52 0-1.04.2-1.43.59L10.3 9.45l-7.72 7.72c-.78.78-.78 2.05 0 2.83L4 21.41c.39.39.9.59 1.41.59.51 0 1.02-.2 1.41-.59l7.78-7.78 2.81-2.81c.8-.78.8-2.07 0-2.86zM5.41 20L4 18.59l7.72-7.72 1.47 1.35L5.41 20z\"/>\n",
              "  </svg>\n",
              "      </button>\n",
              "      \n",
              "  <style>\n",
              "    .colab-df-container {\n",
              "      display:flex;\n",
              "      flex-wrap:wrap;\n",
              "      gap: 12px;\n",
              "    }\n",
              "\n",
              "    .colab-df-convert {\n",
              "      background-color: #E8F0FE;\n",
              "      border: none;\n",
              "      border-radius: 50%;\n",
              "      cursor: pointer;\n",
              "      display: none;\n",
              "      fill: #1967D2;\n",
              "      height: 32px;\n",
              "      padding: 0 0 0 0;\n",
              "      width: 32px;\n",
              "    }\n",
              "\n",
              "    .colab-df-convert:hover {\n",
              "      background-color: #E2EBFA;\n",
              "      box-shadow: 0px 1px 2px rgba(60, 64, 67, 0.3), 0px 1px 3px 1px rgba(60, 64, 67, 0.15);\n",
              "      fill: #174EA6;\n",
              "    }\n",
              "\n",
              "    [theme=dark] .colab-df-convert {\n",
              "      background-color: #3B4455;\n",
              "      fill: #D2E3FC;\n",
              "    }\n",
              "\n",
              "    [theme=dark] .colab-df-convert:hover {\n",
              "      background-color: #434B5C;\n",
              "      box-shadow: 0px 1px 3px 1px rgba(0, 0, 0, 0.15);\n",
              "      filter: drop-shadow(0px 1px 2px rgba(0, 0, 0, 0.3));\n",
              "      fill: #FFFFFF;\n",
              "    }\n",
              "  </style>\n",
              "\n",
              "      <script>\n",
              "        const buttonEl =\n",
              "          document.querySelector('#df-c3ab11f7-bd98-4190-a269-294ac0fa0f7a button.colab-df-convert');\n",
              "        buttonEl.style.display =\n",
              "          google.colab.kernel.accessAllowed ? 'block' : 'none';\n",
              "\n",
              "        async function convertToInteractive(key) {\n",
              "          const element = document.querySelector('#df-c3ab11f7-bd98-4190-a269-294ac0fa0f7a');\n",
              "          const dataTable =\n",
              "            await google.colab.kernel.invokeFunction('convertToInteractive',\n",
              "                                                     [key], {});\n",
              "          if (!dataTable) return;\n",
              "\n",
              "          const docLinkHtml = 'Like what you see? Visit the ' +\n",
              "            '<a target=\"_blank\" href=https://colab.research.google.com/notebooks/data_table.ipynb>data table notebook</a>'\n",
              "            + ' to learn more about interactive tables.';\n",
              "          element.innerHTML = '';\n",
              "          dataTable['output_type'] = 'display_data';\n",
              "          await google.colab.output.renderOutput(dataTable, element);\n",
              "          const docLink = document.createElement('div');\n",
              "          docLink.innerHTML = docLinkHtml;\n",
              "          element.appendChild(docLink);\n",
              "        }\n",
              "      </script>\n",
              "    </div>\n",
              "  </div>\n",
              "  "
            ]
          },
          "metadata": {},
          "execution_count": 23
        }
      ]
    },
    {
      "cell_type": "markdown",
      "source": [
        "É visível a forte correlação (0.877) entre `idade_pessoa` e `tempo_de_credito`, o que é algo esperado. Há também uma correlação considerável entre `renda_percentual_emprestimo` e `valor_emprestimo`. Nota-se que essa variável é calculada a partir das variáveis `renda`e `valor_emprestimo` e pode ser removida para evitar duplicatas."
      ],
      "metadata": {
        "id": "FPv4ey0mDNat"
      }
    },
    {
      "cell_type": "code",
      "source": [
        "dados2 = dados.drop(\"renda_percentual_emprestimo\", axis = 1)"
      ],
      "metadata": {
        "id": "PzkJDQoMDK-A"
      },
      "execution_count": 24,
      "outputs": []
    },
    {
      "cell_type": "markdown",
      "source": [
        "Para o procedimento de transformação das variáveis categóricas binárias (`devendo`) criaremos um dictionary."
      ],
      "metadata": {
        "id": "x2PMdtlcEMrC"
      }
    },
    {
      "cell_type": "code",
      "source": [
        "dict = { \n",
        "    \"Y\" : 1,\n",
        "    \"N\" : 0\n",
        "}"
      ],
      "metadata": {
        "id": "MyMoz-scEHos"
      },
      "execution_count": 25,
      "outputs": []
    },
    {
      "cell_type": "code",
      "source": [
        "dados2 = dados2.replace(dict)"
      ],
      "metadata": {
        "id": "W3wPGP3kHNJL"
      },
      "execution_count": 26,
      "outputs": []
    },
    {
      "cell_type": "code",
      "source": [
        "dados2.head()"
      ],
      "metadata": {
        "colab": {
          "base_uri": "https://localhost:8080/",
          "height": 206
        },
        "id": "6E_xc3KpHZ1Q",
        "outputId": "7d766e9a-ce95-4b5b-b1d8-3f3d76379cad"
      },
      "execution_count": 27,
      "outputs": [
        {
          "output_type": "execute_result",
          "data": {
            "text/plain": [
              "   idade_pessoa    renda tipo_moradia  tempo_trabalhado  motivo_emprestimo  \\\n",
              "0            28  43200.0         Rent                 1            Medical   \n",
              "1            26  38340.0     Mortgage                 7           Personal   \n",
              "2            26  80000.0         Rent                 0    Homeimprovement   \n",
              "4            28  81972.0         Rent                 4  Debtconsolidation   \n",
              "5            31  78000.0         Rent                 1          Education   \n",
              "\n",
              "  pontuacao_emprestimo  valor_emprestimo  taxa_juros  inadimplencia  devendo  \\\n",
              "0                    A            3000.0        7.49            0.0        0   \n",
              "1                    B            2500.0       12.18            1.0        0   \n",
              "2                    A            8000.0        5.99            0.0        0   \n",
              "4                    B           18000.0       10.99            0.0        0   \n",
              "5                    A           14000.0        9.63            0.0        0   \n",
              "\n",
              "   tempo_de_credito  \n",
              "0                 9  \n",
              "1                 4  \n",
              "2                 2  \n",
              "4                 6  \n",
              "5                 5  "
            ],
            "text/html": [
              "\n",
              "  <div id=\"df-7ed8a68e-459d-4f1d-950f-8bd121145e48\">\n",
              "    <div class=\"colab-df-container\">\n",
              "      <div>\n",
              "<style scoped>\n",
              "    .dataframe tbody tr th:only-of-type {\n",
              "        vertical-align: middle;\n",
              "    }\n",
              "\n",
              "    .dataframe tbody tr th {\n",
              "        vertical-align: top;\n",
              "    }\n",
              "\n",
              "    .dataframe thead th {\n",
              "        text-align: right;\n",
              "    }\n",
              "</style>\n",
              "<table border=\"1\" class=\"dataframe\">\n",
              "  <thead>\n",
              "    <tr style=\"text-align: right;\">\n",
              "      <th></th>\n",
              "      <th>idade_pessoa</th>\n",
              "      <th>renda</th>\n",
              "      <th>tipo_moradia</th>\n",
              "      <th>tempo_trabalhado</th>\n",
              "      <th>motivo_emprestimo</th>\n",
              "      <th>pontuacao_emprestimo</th>\n",
              "      <th>valor_emprestimo</th>\n",
              "      <th>taxa_juros</th>\n",
              "      <th>inadimplencia</th>\n",
              "      <th>devendo</th>\n",
              "      <th>tempo_de_credito</th>\n",
              "    </tr>\n",
              "  </thead>\n",
              "  <tbody>\n",
              "    <tr>\n",
              "      <th>0</th>\n",
              "      <td>28</td>\n",
              "      <td>43200.0</td>\n",
              "      <td>Rent</td>\n",
              "      <td>1</td>\n",
              "      <td>Medical</td>\n",
              "      <td>A</td>\n",
              "      <td>3000.0</td>\n",
              "      <td>7.49</td>\n",
              "      <td>0.0</td>\n",
              "      <td>0</td>\n",
              "      <td>9</td>\n",
              "    </tr>\n",
              "    <tr>\n",
              "      <th>1</th>\n",
              "      <td>26</td>\n",
              "      <td>38340.0</td>\n",
              "      <td>Mortgage</td>\n",
              "      <td>7</td>\n",
              "      <td>Personal</td>\n",
              "      <td>B</td>\n",
              "      <td>2500.0</td>\n",
              "      <td>12.18</td>\n",
              "      <td>1.0</td>\n",
              "      <td>0</td>\n",
              "      <td>4</td>\n",
              "    </tr>\n",
              "    <tr>\n",
              "      <th>2</th>\n",
              "      <td>26</td>\n",
              "      <td>80000.0</td>\n",
              "      <td>Rent</td>\n",
              "      <td>0</td>\n",
              "      <td>Homeimprovement</td>\n",
              "      <td>A</td>\n",
              "      <td>8000.0</td>\n",
              "      <td>5.99</td>\n",
              "      <td>0.0</td>\n",
              "      <td>0</td>\n",
              "      <td>2</td>\n",
              "    </tr>\n",
              "    <tr>\n",
              "      <th>4</th>\n",
              "      <td>28</td>\n",
              "      <td>81972.0</td>\n",
              "      <td>Rent</td>\n",
              "      <td>4</td>\n",
              "      <td>Debtconsolidation</td>\n",
              "      <td>B</td>\n",
              "      <td>18000.0</td>\n",
              "      <td>10.99</td>\n",
              "      <td>0.0</td>\n",
              "      <td>0</td>\n",
              "      <td>6</td>\n",
              "    </tr>\n",
              "    <tr>\n",
              "      <th>5</th>\n",
              "      <td>31</td>\n",
              "      <td>78000.0</td>\n",
              "      <td>Rent</td>\n",
              "      <td>1</td>\n",
              "      <td>Education</td>\n",
              "      <td>A</td>\n",
              "      <td>14000.0</td>\n",
              "      <td>9.63</td>\n",
              "      <td>0.0</td>\n",
              "      <td>0</td>\n",
              "      <td>5</td>\n",
              "    </tr>\n",
              "  </tbody>\n",
              "</table>\n",
              "</div>\n",
              "      <button class=\"colab-df-convert\" onclick=\"convertToInteractive('df-7ed8a68e-459d-4f1d-950f-8bd121145e48')\"\n",
              "              title=\"Convert this dataframe to an interactive table.\"\n",
              "              style=\"display:none;\">\n",
              "        \n",
              "  <svg xmlns=\"http://www.w3.org/2000/svg\" height=\"24px\"viewBox=\"0 0 24 24\"\n",
              "       width=\"24px\">\n",
              "    <path d=\"M0 0h24v24H0V0z\" fill=\"none\"/>\n",
              "    <path d=\"M18.56 5.44l.94 2.06.94-2.06 2.06-.94-2.06-.94-.94-2.06-.94 2.06-2.06.94zm-11 1L8.5 8.5l.94-2.06 2.06-.94-2.06-.94L8.5 2.5l-.94 2.06-2.06.94zm10 10l.94 2.06.94-2.06 2.06-.94-2.06-.94-.94-2.06-.94 2.06-2.06.94z\"/><path d=\"M17.41 7.96l-1.37-1.37c-.4-.4-.92-.59-1.43-.59-.52 0-1.04.2-1.43.59L10.3 9.45l-7.72 7.72c-.78.78-.78 2.05 0 2.83L4 21.41c.39.39.9.59 1.41.59.51 0 1.02-.2 1.41-.59l7.78-7.78 2.81-2.81c.8-.78.8-2.07 0-2.86zM5.41 20L4 18.59l7.72-7.72 1.47 1.35L5.41 20z\"/>\n",
              "  </svg>\n",
              "      </button>\n",
              "      \n",
              "  <style>\n",
              "    .colab-df-container {\n",
              "      display:flex;\n",
              "      flex-wrap:wrap;\n",
              "      gap: 12px;\n",
              "    }\n",
              "\n",
              "    .colab-df-convert {\n",
              "      background-color: #E8F0FE;\n",
              "      border: none;\n",
              "      border-radius: 50%;\n",
              "      cursor: pointer;\n",
              "      display: none;\n",
              "      fill: #1967D2;\n",
              "      height: 32px;\n",
              "      padding: 0 0 0 0;\n",
              "      width: 32px;\n",
              "    }\n",
              "\n",
              "    .colab-df-convert:hover {\n",
              "      background-color: #E2EBFA;\n",
              "      box-shadow: 0px 1px 2px rgba(60, 64, 67, 0.3), 0px 1px 3px 1px rgba(60, 64, 67, 0.15);\n",
              "      fill: #174EA6;\n",
              "    }\n",
              "\n",
              "    [theme=dark] .colab-df-convert {\n",
              "      background-color: #3B4455;\n",
              "      fill: #D2E3FC;\n",
              "    }\n",
              "\n",
              "    [theme=dark] .colab-df-convert:hover {\n",
              "      background-color: #434B5C;\n",
              "      box-shadow: 0px 1px 3px 1px rgba(0, 0, 0, 0.15);\n",
              "      filter: drop-shadow(0px 1px 2px rgba(0, 0, 0, 0.3));\n",
              "      fill: #FFFFFF;\n",
              "    }\n",
              "  </style>\n",
              "\n",
              "      <script>\n",
              "        const buttonEl =\n",
              "          document.querySelector('#df-7ed8a68e-459d-4f1d-950f-8bd121145e48 button.colab-df-convert');\n",
              "        buttonEl.style.display =\n",
              "          google.colab.kernel.accessAllowed ? 'block' : 'none';\n",
              "\n",
              "        async function convertToInteractive(key) {\n",
              "          const element = document.querySelector('#df-7ed8a68e-459d-4f1d-950f-8bd121145e48');\n",
              "          const dataTable =\n",
              "            await google.colab.kernel.invokeFunction('convertToInteractive',\n",
              "                                                     [key], {});\n",
              "          if (!dataTable) return;\n",
              "\n",
              "          const docLinkHtml = 'Like what you see? Visit the ' +\n",
              "            '<a target=\"_blank\" href=https://colab.research.google.com/notebooks/data_table.ipynb>data table notebook</a>'\n",
              "            + ' to learn more about interactive tables.';\n",
              "          element.innerHTML = '';\n",
              "          dataTable['output_type'] = 'display_data';\n",
              "          await google.colab.output.renderOutput(dataTable, element);\n",
              "          const docLink = document.createElement('div');\n",
              "          docLink.innerHTML = docLinkHtml;\n",
              "          element.appendChild(docLink);\n",
              "        }\n",
              "      </script>\n",
              "    </div>\n",
              "  </div>\n",
              "  "
            ]
          },
          "metadata": {},
          "execution_count": 27
        }
      ]
    },
    {
      "cell_type": "markdown",
      "source": [
        "Precisamos separar o dataset em duas partes:\n",
        "\n",
        "1. a **variável alvo ou y**, que no caso é `inadimplencia`\n",
        "2. demais variáveis que compõem o conjunto de **variáveis explicativas**"
      ],
      "metadata": {
        "id": "DK4YNUwAIHsD"
      }
    },
    {
      "cell_type": "code",
      "source": [
        "x = dados2.drop(\"inadimplencia\", axis = 1)\n",
        "y = dados2[\"inadimplencia\"]"
      ],
      "metadata": {
        "id": "8ClEd9TzIHB2"
      },
      "execution_count": 28,
      "outputs": []
    },
    {
      "cell_type": "markdown",
      "source": [
        "### **One-hot-encoding**\n",
        "\n",
        "Todas as demais variáveis categóricas explicativas com mais de duas categorias precisam passar por um novo procedimento para serem usadas no nosso modelo. Para isso é necessário construir **novas colunas**. Cada uma dessas novas colunas remete a uma variável e irá assumir valores `integer`\n",
        "\n",
        "---\n",
        "\n",
        "Para isso usamos uma classe derivada do `sklearn` chamada `OneHotEncoder`"
      ],
      "metadata": {
        "id": "jZ96P29tJBMb"
      }
    },
    {
      "cell_type": "code",
      "source": [
        "dados2.info()"
      ],
      "metadata": {
        "colab": {
          "base_uri": "https://localhost:8080/"
        },
        "id": "_nIFJ8suKXLV",
        "outputId": "66936194-c6a5-45e3-82b0-87b34d4c131f"
      },
      "execution_count": 29,
      "outputs": [
        {
          "output_type": "stream",
          "name": "stdout",
          "text": [
            "<class 'pandas.core.frame.DataFrame'>\n",
            "Int64Index: 28632 entries, 0 to 34164\n",
            "Data columns (total 11 columns):\n",
            " #   Column                Non-Null Count  Dtype  \n",
            "---  ------                --------------  -----  \n",
            " 0   idade_pessoa          28632 non-null  int64  \n",
            " 1   renda                 28632 non-null  float64\n",
            " 2   tipo_moradia          28632 non-null  object \n",
            " 3   tempo_trabalhado      28632 non-null  int64  \n",
            " 4   motivo_emprestimo     28632 non-null  object \n",
            " 5   pontuacao_emprestimo  28632 non-null  object \n",
            " 6   valor_emprestimo      28632 non-null  float64\n",
            " 7   taxa_juros            28632 non-null  float64\n",
            " 8   inadimplencia         28632 non-null  float64\n",
            " 9   devendo               28632 non-null  int64  \n",
            " 10  tempo_de_credito      28632 non-null  int64  \n",
            "dtypes: float64(4), int64(4), object(3)\n",
            "memory usage: 2.6+ MB\n"
          ]
        }
      ]
    },
    {
      "cell_type": "code",
      "source": [
        "var_categoricas = [\"tipo_moradia\", \"motivo_emprestimo\", \"pontuacao_emprestimo\" ]\n",
        "\n",
        "one_hot_enc = make_column_transformer(\n",
        "    (OneHotEncoder(), var_categoricas),\n",
        "    remainder='passthrough'\n",
        ")\n",
        "\n",
        "dados_transformados = one_hot_enc.fit_transform(x)\n",
        "dados_transformados = pd.DataFrame(dados_transformados, columns=one_hot_enc.get_feature_names_out())\n",
        "dados_transformados.head()"
      ],
      "metadata": {
        "colab": {
          "base_uri": "https://localhost:8080/",
          "height": 300
        },
        "id": "32LEIZLJI8wC",
        "outputId": "4ab901b6-27a5-491b-9a54-13416a6dcc98"
      },
      "execution_count": 30,
      "outputs": [
        {
          "output_type": "execute_result",
          "data": {
            "text/plain": [
              "   onehotencoder__tipo_moradia_Mortgage  onehotencoder__tipo_moradia_Other  \\\n",
              "0                                   0.0                                0.0   \n",
              "1                                   1.0                                0.0   \n",
              "2                                   0.0                                0.0   \n",
              "3                                   0.0                                0.0   \n",
              "4                                   0.0                                0.0   \n",
              "\n",
              "   onehotencoder__tipo_moradia_Own  onehotencoder__tipo_moradia_Rent  \\\n",
              "0                              0.0                               1.0   \n",
              "1                              0.0                               0.0   \n",
              "2                              0.0                               1.0   \n",
              "3                              0.0                               1.0   \n",
              "4                              0.0                               1.0   \n",
              "\n",
              "   onehotencoder__motivo_emprestimo_Debtconsolidation  \\\n",
              "0                                                0.0    \n",
              "1                                                0.0    \n",
              "2                                                0.0    \n",
              "3                                                1.0    \n",
              "4                                                0.0    \n",
              "\n",
              "   onehotencoder__motivo_emprestimo_Education  \\\n",
              "0                                         0.0   \n",
              "1                                         0.0   \n",
              "2                                         0.0   \n",
              "3                                         0.0   \n",
              "4                                         1.0   \n",
              "\n",
              "   onehotencoder__motivo_emprestimo_Homeimprovement  \\\n",
              "0                                               0.0   \n",
              "1                                               0.0   \n",
              "2                                               1.0   \n",
              "3                                               0.0   \n",
              "4                                               0.0   \n",
              "\n",
              "   onehotencoder__motivo_emprestimo_Medical  \\\n",
              "0                                       1.0   \n",
              "1                                       0.0   \n",
              "2                                       0.0   \n",
              "3                                       0.0   \n",
              "4                                       0.0   \n",
              "\n",
              "   onehotencoder__motivo_emprestimo_Personal  \\\n",
              "0                                        0.0   \n",
              "1                                        1.0   \n",
              "2                                        0.0   \n",
              "3                                        0.0   \n",
              "4                                        0.0   \n",
              "\n",
              "   onehotencoder__motivo_emprestimo_Venture  ...  \\\n",
              "0                                       0.0  ...   \n",
              "1                                       0.0  ...   \n",
              "2                                       0.0  ...   \n",
              "3                                       0.0  ...   \n",
              "4                                       0.0  ...   \n",
              "\n",
              "   onehotencoder__pontuacao_emprestimo_E  \\\n",
              "0                                    0.0   \n",
              "1                                    0.0   \n",
              "2                                    0.0   \n",
              "3                                    0.0   \n",
              "4                                    0.0   \n",
              "\n",
              "   onehotencoder__pontuacao_emprestimo_F  \\\n",
              "0                                    0.0   \n",
              "1                                    0.0   \n",
              "2                                    0.0   \n",
              "3                                    0.0   \n",
              "4                                    0.0   \n",
              "\n",
              "   onehotencoder__pontuacao_emprestimo_G  remainder__idade_pessoa  \\\n",
              "0                                    0.0                     28.0   \n",
              "1                                    0.0                     26.0   \n",
              "2                                    0.0                     26.0   \n",
              "3                                    0.0                     28.0   \n",
              "4                                    0.0                     31.0   \n",
              "\n",
              "   remainder__renda  remainder__tempo_trabalhado  remainder__valor_emprestimo  \\\n",
              "0           43200.0                          1.0                       3000.0   \n",
              "1           38340.0                          7.0                       2500.0   \n",
              "2           80000.0                          0.0                       8000.0   \n",
              "3           81972.0                          4.0                      18000.0   \n",
              "4           78000.0                          1.0                      14000.0   \n",
              "\n",
              "   remainder__taxa_juros  remainder__devendo  remainder__tempo_de_credito  \n",
              "0                   7.49                 0.0                          9.0  \n",
              "1                  12.18                 0.0                          4.0  \n",
              "2                   5.99                 0.0                          2.0  \n",
              "3                  10.99                 0.0                          6.0  \n",
              "4                   9.63                 0.0                          5.0  \n",
              "\n",
              "[5 rows x 24 columns]"
            ],
            "text/html": [
              "\n",
              "  <div id=\"df-8d99eef6-d112-46fd-a2b1-16ba417fa5bc\">\n",
              "    <div class=\"colab-df-container\">\n",
              "      <div>\n",
              "<style scoped>\n",
              "    .dataframe tbody tr th:only-of-type {\n",
              "        vertical-align: middle;\n",
              "    }\n",
              "\n",
              "    .dataframe tbody tr th {\n",
              "        vertical-align: top;\n",
              "    }\n",
              "\n",
              "    .dataframe thead th {\n",
              "        text-align: right;\n",
              "    }\n",
              "</style>\n",
              "<table border=\"1\" class=\"dataframe\">\n",
              "  <thead>\n",
              "    <tr style=\"text-align: right;\">\n",
              "      <th></th>\n",
              "      <th>onehotencoder__tipo_moradia_Mortgage</th>\n",
              "      <th>onehotencoder__tipo_moradia_Other</th>\n",
              "      <th>onehotencoder__tipo_moradia_Own</th>\n",
              "      <th>onehotencoder__tipo_moradia_Rent</th>\n",
              "      <th>onehotencoder__motivo_emprestimo_Debtconsolidation</th>\n",
              "      <th>onehotencoder__motivo_emprestimo_Education</th>\n",
              "      <th>onehotencoder__motivo_emprestimo_Homeimprovement</th>\n",
              "      <th>onehotencoder__motivo_emprestimo_Medical</th>\n",
              "      <th>onehotencoder__motivo_emprestimo_Personal</th>\n",
              "      <th>onehotencoder__motivo_emprestimo_Venture</th>\n",
              "      <th>...</th>\n",
              "      <th>onehotencoder__pontuacao_emprestimo_E</th>\n",
              "      <th>onehotencoder__pontuacao_emprestimo_F</th>\n",
              "      <th>onehotencoder__pontuacao_emprestimo_G</th>\n",
              "      <th>remainder__idade_pessoa</th>\n",
              "      <th>remainder__renda</th>\n",
              "      <th>remainder__tempo_trabalhado</th>\n",
              "      <th>remainder__valor_emprestimo</th>\n",
              "      <th>remainder__taxa_juros</th>\n",
              "      <th>remainder__devendo</th>\n",
              "      <th>remainder__tempo_de_credito</th>\n",
              "    </tr>\n",
              "  </thead>\n",
              "  <tbody>\n",
              "    <tr>\n",
              "      <th>0</th>\n",
              "      <td>0.0</td>\n",
              "      <td>0.0</td>\n",
              "      <td>0.0</td>\n",
              "      <td>1.0</td>\n",
              "      <td>0.0</td>\n",
              "      <td>0.0</td>\n",
              "      <td>0.0</td>\n",
              "      <td>1.0</td>\n",
              "      <td>0.0</td>\n",
              "      <td>0.0</td>\n",
              "      <td>...</td>\n",
              "      <td>0.0</td>\n",
              "      <td>0.0</td>\n",
              "      <td>0.0</td>\n",
              "      <td>28.0</td>\n",
              "      <td>43200.0</td>\n",
              "      <td>1.0</td>\n",
              "      <td>3000.0</td>\n",
              "      <td>7.49</td>\n",
              "      <td>0.0</td>\n",
              "      <td>9.0</td>\n",
              "    </tr>\n",
              "    <tr>\n",
              "      <th>1</th>\n",
              "      <td>1.0</td>\n",
              "      <td>0.0</td>\n",
              "      <td>0.0</td>\n",
              "      <td>0.0</td>\n",
              "      <td>0.0</td>\n",
              "      <td>0.0</td>\n",
              "      <td>0.0</td>\n",
              "      <td>0.0</td>\n",
              "      <td>1.0</td>\n",
              "      <td>0.0</td>\n",
              "      <td>...</td>\n",
              "      <td>0.0</td>\n",
              "      <td>0.0</td>\n",
              "      <td>0.0</td>\n",
              "      <td>26.0</td>\n",
              "      <td>38340.0</td>\n",
              "      <td>7.0</td>\n",
              "      <td>2500.0</td>\n",
              "      <td>12.18</td>\n",
              "      <td>0.0</td>\n",
              "      <td>4.0</td>\n",
              "    </tr>\n",
              "    <tr>\n",
              "      <th>2</th>\n",
              "      <td>0.0</td>\n",
              "      <td>0.0</td>\n",
              "      <td>0.0</td>\n",
              "      <td>1.0</td>\n",
              "      <td>0.0</td>\n",
              "      <td>0.0</td>\n",
              "      <td>1.0</td>\n",
              "      <td>0.0</td>\n",
              "      <td>0.0</td>\n",
              "      <td>0.0</td>\n",
              "      <td>...</td>\n",
              "      <td>0.0</td>\n",
              "      <td>0.0</td>\n",
              "      <td>0.0</td>\n",
              "      <td>26.0</td>\n",
              "      <td>80000.0</td>\n",
              "      <td>0.0</td>\n",
              "      <td>8000.0</td>\n",
              "      <td>5.99</td>\n",
              "      <td>0.0</td>\n",
              "      <td>2.0</td>\n",
              "    </tr>\n",
              "    <tr>\n",
              "      <th>3</th>\n",
              "      <td>0.0</td>\n",
              "      <td>0.0</td>\n",
              "      <td>0.0</td>\n",
              "      <td>1.0</td>\n",
              "      <td>1.0</td>\n",
              "      <td>0.0</td>\n",
              "      <td>0.0</td>\n",
              "      <td>0.0</td>\n",
              "      <td>0.0</td>\n",
              "      <td>0.0</td>\n",
              "      <td>...</td>\n",
              "      <td>0.0</td>\n",
              "      <td>0.0</td>\n",
              "      <td>0.0</td>\n",
              "      <td>28.0</td>\n",
              "      <td>81972.0</td>\n",
              "      <td>4.0</td>\n",
              "      <td>18000.0</td>\n",
              "      <td>10.99</td>\n",
              "      <td>0.0</td>\n",
              "      <td>6.0</td>\n",
              "    </tr>\n",
              "    <tr>\n",
              "      <th>4</th>\n",
              "      <td>0.0</td>\n",
              "      <td>0.0</td>\n",
              "      <td>0.0</td>\n",
              "      <td>1.0</td>\n",
              "      <td>0.0</td>\n",
              "      <td>1.0</td>\n",
              "      <td>0.0</td>\n",
              "      <td>0.0</td>\n",
              "      <td>0.0</td>\n",
              "      <td>0.0</td>\n",
              "      <td>...</td>\n",
              "      <td>0.0</td>\n",
              "      <td>0.0</td>\n",
              "      <td>0.0</td>\n",
              "      <td>31.0</td>\n",
              "      <td>78000.0</td>\n",
              "      <td>1.0</td>\n",
              "      <td>14000.0</td>\n",
              "      <td>9.63</td>\n",
              "      <td>0.0</td>\n",
              "      <td>5.0</td>\n",
              "    </tr>\n",
              "  </tbody>\n",
              "</table>\n",
              "<p>5 rows × 24 columns</p>\n",
              "</div>\n",
              "      <button class=\"colab-df-convert\" onclick=\"convertToInteractive('df-8d99eef6-d112-46fd-a2b1-16ba417fa5bc')\"\n",
              "              title=\"Convert this dataframe to an interactive table.\"\n",
              "              style=\"display:none;\">\n",
              "        \n",
              "  <svg xmlns=\"http://www.w3.org/2000/svg\" height=\"24px\"viewBox=\"0 0 24 24\"\n",
              "       width=\"24px\">\n",
              "    <path d=\"M0 0h24v24H0V0z\" fill=\"none\"/>\n",
              "    <path d=\"M18.56 5.44l.94 2.06.94-2.06 2.06-.94-2.06-.94-.94-2.06-.94 2.06-2.06.94zm-11 1L8.5 8.5l.94-2.06 2.06-.94-2.06-.94L8.5 2.5l-.94 2.06-2.06.94zm10 10l.94 2.06.94-2.06 2.06-.94-2.06-.94-.94-2.06-.94 2.06-2.06.94z\"/><path d=\"M17.41 7.96l-1.37-1.37c-.4-.4-.92-.59-1.43-.59-.52 0-1.04.2-1.43.59L10.3 9.45l-7.72 7.72c-.78.78-.78 2.05 0 2.83L4 21.41c.39.39.9.59 1.41.59.51 0 1.02-.2 1.41-.59l7.78-7.78 2.81-2.81c.8-.78.8-2.07 0-2.86zM5.41 20L4 18.59l7.72-7.72 1.47 1.35L5.41 20z\"/>\n",
              "  </svg>\n",
              "      </button>\n",
              "      \n",
              "  <style>\n",
              "    .colab-df-container {\n",
              "      display:flex;\n",
              "      flex-wrap:wrap;\n",
              "      gap: 12px;\n",
              "    }\n",
              "\n",
              "    .colab-df-convert {\n",
              "      background-color: #E8F0FE;\n",
              "      border: none;\n",
              "      border-radius: 50%;\n",
              "      cursor: pointer;\n",
              "      display: none;\n",
              "      fill: #1967D2;\n",
              "      height: 32px;\n",
              "      padding: 0 0 0 0;\n",
              "      width: 32px;\n",
              "    }\n",
              "\n",
              "    .colab-df-convert:hover {\n",
              "      background-color: #E2EBFA;\n",
              "      box-shadow: 0px 1px 2px rgba(60, 64, 67, 0.3), 0px 1px 3px 1px rgba(60, 64, 67, 0.15);\n",
              "      fill: #174EA6;\n",
              "    }\n",
              "\n",
              "    [theme=dark] .colab-df-convert {\n",
              "      background-color: #3B4455;\n",
              "      fill: #D2E3FC;\n",
              "    }\n",
              "\n",
              "    [theme=dark] .colab-df-convert:hover {\n",
              "      background-color: #434B5C;\n",
              "      box-shadow: 0px 1px 3px 1px rgba(0, 0, 0, 0.15);\n",
              "      filter: drop-shadow(0px 1px 2px rgba(0, 0, 0, 0.3));\n",
              "      fill: #FFFFFF;\n",
              "    }\n",
              "  </style>\n",
              "\n",
              "      <script>\n",
              "        const buttonEl =\n",
              "          document.querySelector('#df-8d99eef6-d112-46fd-a2b1-16ba417fa5bc button.colab-df-convert');\n",
              "        buttonEl.style.display =\n",
              "          google.colab.kernel.accessAllowed ? 'block' : 'none';\n",
              "\n",
              "        async function convertToInteractive(key) {\n",
              "          const element = document.querySelector('#df-8d99eef6-d112-46fd-a2b1-16ba417fa5bc');\n",
              "          const dataTable =\n",
              "            await google.colab.kernel.invokeFunction('convertToInteractive',\n",
              "                                                     [key], {});\n",
              "          if (!dataTable) return;\n",
              "\n",
              "          const docLinkHtml = 'Like what you see? Visit the ' +\n",
              "            '<a target=\"_blank\" href=https://colab.research.google.com/notebooks/data_table.ipynb>data table notebook</a>'\n",
              "            + ' to learn more about interactive tables.';\n",
              "          element.innerHTML = '';\n",
              "          dataTable['output_type'] = 'display_data';\n",
              "          await google.colab.output.renderOutput(dataTable, element);\n",
              "          const docLink = document.createElement('div');\n",
              "          docLink.innerHTML = docLinkHtml;\n",
              "          element.appendChild(docLink);\n",
              "        }\n",
              "      </script>\n",
              "    </div>\n",
              "  </div>\n",
              "  "
            ]
          },
          "metadata": {},
          "execution_count": 30
        }
      ]
    },
    {
      "cell_type": "markdown",
      "source": [
        "### **Separação de dados (Treino e Teste)**\n",
        "\n",
        "É importantíssimo, para a validação do modelo, saber como ele está performando. Para isso devemos dividir nosso dataset em 2 conjuntos: um de treinamento e outro de teste."
      ],
      "metadata": {
        "id": "4V0nhzrvMjt0"
      }
    },
    {
      "cell_type": "code",
      "source": [
        "SEED = 144"
      ],
      "metadata": {
        "id": "dVxzrHdyM4zj"
      },
      "execution_count": 31,
      "outputs": []
    },
    {
      "cell_type": "code",
      "source": [
        "treino_x, teste_x, treino_y, teste_y = train_test_split(dados_transformados, y, random_state = SEED, stratify = y)"
      ],
      "metadata": {
        "id": "rxQqVyPfNDas"
      },
      "execution_count": 32,
      "outputs": []
    },
    {
      "cell_type": "code",
      "source": [
        "print(f'Treinaremos nosso modelo com {len(treino_x)} elementos e testaremos com {len(teste_x)} elementos')"
      ],
      "metadata": {
        "colab": {
          "base_uri": "https://localhost:8080/"
        },
        "id": "zG9iZ5oBO5U8",
        "outputId": "70277cb6-dd0d-4933-eb37-68c2a858f0c4"
      },
      "execution_count": 33,
      "outputs": [
        {
          "output_type": "stream",
          "name": "stdout",
          "text": [
            "Treinaremos nosso modelo com 21474 elementos e testaremos com 7158 elementos\n"
          ]
        }
      ]
    },
    {
      "cell_type": "markdown",
      "source": [
        "Para avaliar se `y_treino`está estratificado ou não:"
      ],
      "metadata": {
        "id": "4mqF1BmwNtBQ"
      }
    },
    {
      "cell_type": "code",
      "source": [
        "# devemos também avaliar a proporçao de zeros e uns\n",
        "\n",
        "print(f' Número de 0/1 no treino_x: \\n{treino_y.value_counts()} \\n \\nNúmero de 0/1 no teste_x: \\n{teste_y.value_counts()}')"
      ],
      "metadata": {
        "colab": {
          "base_uri": "https://localhost:8080/"
        },
        "id": "RU1rIHVeNreD",
        "outputId": "6fbd19dc-1569-4c47-e734-d6b04c1338d6"
      },
      "execution_count": 34,
      "outputs": [
        {
          "output_type": "stream",
          "name": "stdout",
          "text": [
            " Número de 0/1 no treino_x: \n",
            "0.0    16823\n",
            "1.0     4651\n",
            "Name: inadimplencia, dtype: int64 \n",
            " \n",
            "Número de 0/1 no teste_x: \n",
            "0.0    5607\n",
            "1.0    1551\n",
            "Name: inadimplencia, dtype: int64\n"
          ]
        }
      ]
    },
    {
      "cell_type": "code",
      "source": [
        "treino_y"
      ],
      "metadata": {
        "colab": {
          "base_uri": "https://localhost:8080/"
        },
        "id": "fseOglhrNjzE",
        "outputId": "72f8ef1d-9d9a-4447-8c30-0bc6e3a3b8ba"
      },
      "execution_count": 35,
      "outputs": [
        {
          "output_type": "execute_result",
          "data": {
            "text/plain": [
              "30231    1.0\n",
              "25295    0.0\n",
              "29865    0.0\n",
              "5663     0.0\n",
              "29335    0.0\n",
              "        ... \n",
              "8439     1.0\n",
              "16164    0.0\n",
              "28797    0.0\n",
              "25498    0.0\n",
              "32969    0.0\n",
              "Name: inadimplencia, Length: 21474, dtype: float64"
            ]
          },
          "metadata": {},
          "execution_count": 35
        }
      ]
    },
    {
      "cell_type": "markdown",
      "source": [
        "### **Aprendizado Supervisionado: A escolha dos modelos**"
      ],
      "metadata": {
        "id": "fOV-LdHIPqMZ"
      }
    },
    {
      "cell_type": "code",
      "source": [],
      "metadata": {
        "id": "s3P3aXuxNlWh"
      },
      "execution_count": 35,
      "outputs": []
    }
  ]
}